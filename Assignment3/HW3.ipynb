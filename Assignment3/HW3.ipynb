{
  "cells": [
    {
      "cell_type": "markdown",
      "metadata": {
        "id": "yeIXFfAumNWV"
      },
      "source": [
        "# Neural Network In Pytorch\n",
        "This assignment aims to get familiarized with building the whole pipeline of deep learning in Pytorch to perform classification and test it out on the CIFAR-10 dataset. All the code will be implemented in this notebook."
      ]
    },
    {
      "cell_type": "code",
      "execution_count": 1,
      "metadata": {
        "colab": {
          "base_uri": "https://localhost:8080/",
          "height": 0
        },
        "id": "_BD5dqNGm1b6",
        "outputId": "478d8305-a576-4f92-8691-5b91c1c5b007"
      },
      "outputs": [
        {
          "output_type": "stream",
          "name": "stdout",
          "text": [
            "Mounted at /content/gdrive\n"
          ]
        }
      ],
      "source": [
        "from google.colab import drive\n",
        "drive.mount('/content/gdrive')"
      ]
    },
    {
      "cell_type": "code",
      "execution_count": 2,
      "metadata": {
        "colab": {
          "base_uri": "https://localhost:8080/",
          "height": 0
        },
        "id": "J3HggVCdm8iV",
        "outputId": "9bd27ce0-c562-49dc-8f70-094778995848"
      },
      "outputs": [
        {
          "output_type": "stream",
          "name": "stdout",
          "text": [
            "/content/gdrive/.shortcut-targets-by-id/1Vjxt0mlxyAjc9hIfHPk_DtKcsQAdmo8K/HW3\n"
          ]
        }
      ],
      "source": [
        "%cd /content/gdrive/.shortcut-targets-by-id/1Vjxt0mlxyAjc9hIfHPk_DtKcsQAdmo8K/HW3"
      ]
    },
    {
      "cell_type": "markdown",
      "metadata": {
        "id": "soWnE8qOuQwg"
      },
      "source": [
        "First, let's install modules not already installed by Google Colab."
      ]
    },
    {
      "cell_type": "code",
      "execution_count": 3,
      "metadata": {
        "colab": {
          "base_uri": "https://localhost:8080/",
          "height": 0
        },
        "id": "75XndHcNuL0r",
        "outputId": "9d1aba2e-a89c-4c0f-88b2-ba56cede8d06"
      },
      "outputs": [
        {
          "output_type": "stream",
          "name": "stdout",
          "text": [
            "Collecting torch_utils\n",
            "  Downloading torch-utils-0.1.2.tar.gz (4.9 kB)\n",
            "  Preparing metadata (setup.py) ... \u001b[?25l\u001b[?25hdone\n",
            "Requirement already satisfied: torch in /usr/local/lib/python3.10/dist-packages (from torch_utils) (2.1.0+cu121)\n",
            "Requirement already satisfied: filelock in /usr/local/lib/python3.10/dist-packages (from torch->torch_utils) (3.13.1)\n",
            "Requirement already satisfied: typing-extensions in /usr/local/lib/python3.10/dist-packages (from torch->torch_utils) (4.9.0)\n",
            "Requirement already satisfied: sympy in /usr/local/lib/python3.10/dist-packages (from torch->torch_utils) (1.12)\n",
            "Requirement already satisfied: networkx in /usr/local/lib/python3.10/dist-packages (from torch->torch_utils) (3.2.1)\n",
            "Requirement already satisfied: jinja2 in /usr/local/lib/python3.10/dist-packages (from torch->torch_utils) (3.1.3)\n",
            "Requirement already satisfied: fsspec in /usr/local/lib/python3.10/dist-packages (from torch->torch_utils) (2023.6.0)\n",
            "Requirement already satisfied: triton==2.1.0 in /usr/local/lib/python3.10/dist-packages (from torch->torch_utils) (2.1.0)\n",
            "Requirement already satisfied: MarkupSafe>=2.0 in /usr/local/lib/python3.10/dist-packages (from jinja2->torch->torch_utils) (2.1.5)\n",
            "Requirement already satisfied: mpmath>=0.19 in /usr/local/lib/python3.10/dist-packages (from sympy->torch->torch_utils) (1.3.0)\n",
            "Building wheels for collected packages: torch_utils\n",
            "  Building wheel for torch_utils (setup.py) ... \u001b[?25l\u001b[?25hdone\n",
            "  Created wheel for torch_utils: filename=torch_utils-0.1.2-py3-none-any.whl size=6187 sha256=ce3380aab39ee467eb53c908c8af49c43050759b345ec23209c7e95b5a9f9206\n",
            "  Stored in directory: /root/.cache/pip/wheels/76/08/f0/378d1fe4aac5aa1e21483918d70b7e3428c4faaac0abda4e15\n",
            "Successfully built torch_utils\n",
            "Installing collected packages: torch_utils\n",
            "Successfully installed torch_utils-0.1.2\n"
          ]
        }
      ],
      "source": [
        "! pip install torch_utils"
      ]
    },
    {
      "cell_type": "markdown",
      "metadata": {
        "id": "Mzuptv--6uXv"
      },
      "source": [
        "## Task 1: Design the Neural Network and Data Preparation\n"
      ]
    },
    {
      "cell_type": "markdown",
      "metadata": {
        "id": "kTcfx8MFFxRz"
      },
      "source": [
        "In the beginning, please import all the packages you need. We provide some packages here, which might be helpful when you build your code."
      ]
    },
    {
      "cell_type": "code",
      "execution_count": 4,
      "metadata": {
        "id": "v4wg5xqcxNEi"
      },
      "outputs": [],
      "source": [
        "from IPython.core.interactiveshell import InteractiveShell\n",
        "InteractiveShell.ast_node_interactivity = \"all\"\n",
        "\n",
        "# import modules\n",
        "import pandas as pd\n",
        "import numpy as np\n",
        "import matplotlib.pyplot as plt\n",
        "import torch\n",
        "from torch import cuda\n",
        "import torch.nn as nn\n",
        "from torch.utils.data import TensorDataset, DataLoader, sampler\n",
        "import torch.nn.functional as F\n",
        "from torch_utils import AverageMeter\n",
        "import math\n",
        "import matplotlib.pyplot as plt\n",
        "from sklearn.metrics import mean_squared_error\n",
        "from numpy import inf\n",
        "\n",
        "\n",
        "from sklearn.model_selection import train_test_split\n",
        "import os\n",
        "from glob import glob\n",
        "from torchvision import transforms\n",
        "from torchvision import datasets\n",
        "from torchvision import models\n",
        "from torch import optim, cuda, Tensor\n",
        "import tqdm\n",
        "\n",
        "# Data science tools\n",
        "import numpy as np\n",
        "\n",
        "import os\n",
        "\n",
        "# Image manipulations\n",
        "from PIL import Image\n",
        "from timeit import default_timer as timer\n",
        "\n",
        "# Visualizations\n",
        "import matplotlib.pyplot as plt\n",
        "#plt.rcParams['font.size'] = 14\n",
        "\n",
        "import warnings\n",
        "warnings.filterwarnings('ignore', category=FutureWarning)"
      ]
    },
    {
      "cell_type": "markdown",
      "metadata": {
        "id": "NPX2j9gCHFOW"
      },
      "source": [
        "###Network Design\n",
        "Then, we need to define a class for your network. The network should include two linear layer, one Relu layer, and one dropout layer."
      ]
    },
    {
      "cell_type": "code",
      "execution_count": 5,
      "metadata": {
        "id": "xDl90_EICBFp"
      },
      "outputs": [],
      "source": [
        "# define model\n",
        "class bmodel(nn.Module):\n",
        "    def __init__(self, input_d, hidden_d, output_d, dropout_p=0.5):\n",
        "        super().__init__()\n",
        "        # Define all the layers that you need in your network\n",
        "        # You can use nn.Linear() to define the linear layer\n",
        "        # You can use nn.Dropout() to define the dropout layer\n",
        "        # You can use F.relu() to define your ReLu layer\n",
        "        ######################\n",
        "        ### YOUR CODE HERE ###\n",
        "        ######################\n",
        "\n",
        "        # First linear layer\n",
        "        self.linear1 = nn.Linear(input_d, hidden_d)\n",
        "\n",
        "        # Dropout layer\n",
        "        self.dropout = nn.Dropout(dropout_p)\n",
        "\n",
        "        # Second linear layer\n",
        "        self.linear2 = nn.Linear(hidden_d, output_d)\n",
        "\n",
        "        #####################\n",
        "        ### YOUR CODE END ###\n",
        "        #####################\n",
        "\n",
        "    def forward(self, x):\n",
        "        # Design your network structure here\n",
        "        ######################\n",
        "        ### YOUR CODE HERE ###\n",
        "        ######################\n",
        "\n",
        "        # Pass the input through the first linear layer, then ReLU, then dropout, then the second linear layer\n",
        "        x = self.linear1(x)\n",
        "        x = F.relu(x)\n",
        "        x = self.dropout(x)\n",
        "        x = self.linear2(x)\n",
        "        return x\n",
        "\n",
        "        #####################\n",
        "        ### YOUR CODE END ###\n",
        "        #####################\n"
      ]
    },
    {
      "cell_type": "markdown",
      "metadata": {
        "id": "IZiqsgPSH24o"
      },
      "source": [
        "Now, we can design our toy model to test your network."
      ]
    },
    {
      "cell_type": "code",
      "execution_count": 6,
      "metadata": {
        "collapsed": true,
        "id": "UqhzirmamNWj"
      },
      "outputs": [],
      "source": [
        "# Create a small net and some toy data to check your implementations.\n",
        "# Note that we set the random seed for repeatable experiments.\n",
        "\n",
        "input_size = 4\n",
        "hidden_size = 10\n",
        "num_classes = 3\n",
        "num_inputs = 5\n",
        "\n",
        "def init_toy_model():\n",
        "    np.random.seed(0)\n",
        "    return bmodel(input_size, hidden_size, num_classes)\n",
        "\n",
        "def init_toy_data():\n",
        "    np.random.seed(1)\n",
        "    X = 10 * np.random.randn(num_inputs, input_size)\n",
        "    y = np.array([0, 1, 2, 2, 1])\n",
        "    return X, y\n",
        "\n",
        "toy_model = init_toy_model()\n",
        "train_X, train_Y = init_toy_data()\n",
        "validation_X, validation_Y = init_toy_data()"
      ]
    },
    {
      "cell_type": "markdown",
      "metadata": {
        "id": "clIyJmUFJg0H"
      },
      "source": [
        "Cuda is Compute Unified Device Architecture, which can achieve parallel computing. It will improve our learning speed in the parameter update by using GPU rather than CPU."
      ]
    },
    {
      "cell_type": "code",
      "execution_count": 7,
      "metadata": {
        "colab": {
          "base_uri": "https://localhost:8080/",
          "height": 0
        },
        "id": "qNhcttlxJSOk",
        "outputId": "d6c069a8-d02a-402e-b0a6-b2bed599d333"
      },
      "outputs": [
        {
          "output_type": "stream",
          "name": "stdout",
          "text": [
            "Train on gpu: True\n",
            "1 gpus detected.\n",
            "True False\n"
          ]
        }
      ],
      "source": [
        "# Check whether there is a gpu for cuda\n",
        "train_on_gpu = cuda.is_available()\n",
        "print(f'Train on gpu: {train_on_gpu}')\n",
        "\n",
        "# Number of gpus\n",
        "if train_on_gpu:\n",
        "    gpu_count = cuda.device_count()\n",
        "    print(f'{gpu_count} gpus detected.')\n",
        "    if gpu_count > 1:\n",
        "        multi_gpu = True\n",
        "    else:\n",
        "        multi_gpu = False\n",
        "else:\n",
        "    multi_gpu = False\n",
        "print(train_on_gpu,multi_gpu)"
      ]
    },
    {
      "cell_type": "markdown",
      "metadata": {
        "id": "jFXQ5rioKcOP"
      },
      "source": [
        "###Data Preparation\n",
        "Next, we need to organize the data before we load them into the network. In Pytorch, we use Tensor as the data structure for computing, and we use \"dataloaders\" to achieve mini-batch from the whole dataset."
      ]
    },
    {
      "cell_type": "code",
      "execution_count": 8,
      "metadata": {
        "colab": {
          "base_uri": "https://localhost:8080/",
          "height": 0
        },
        "id": "kOcdfL03KVL6",
        "outputId": "bbcf39e8-9a79-42b4-f339-1fd16caa6819"
      },
      "outputs": [
        {
          "output_type": "execute_result",
          "data": {
            "text/plain": [
              "(torch.Size([1, 4]), torch.Size([1]))"
            ]
          },
          "metadata": {},
          "execution_count": 8
        }
      ],
      "source": [
        "# Datasets organization\n",
        "batch_size = 1\n",
        "\n",
        "# Transfer the data from numpy to tensor\n",
        "data = {\n",
        "    'train':\n",
        "    TensorDataset(torch.from_numpy(train_X), torch.from_numpy(train_Y).float()),\n",
        "    'valid':\n",
        "    # please define your validation dataset\n",
        "    ######################\n",
        "    ### YOUR CODE HERE ###\n",
        "    ######################\n",
        "\n",
        "    TensorDataset(torch.from_numpy(validation_X), torch.from_numpy(validation_Y).float()),\n",
        "\n",
        "    #####################\n",
        "    ### YOUR CODE END ###\n",
        "    #####################\n",
        "\n",
        "}\n",
        "\n",
        "\n",
        "# Dataloader iterators, make sure to shuffle\n",
        "dataloaders = {\n",
        "    'train': DataLoader(data['train'], batch_size=batch_size, shuffle=True,num_workers=2),\n",
        "    'valid':\n",
        "    # please define your validation data loader\n",
        "    ######################\n",
        "    ### YOUR CODE HERE ###\n",
        "    ######################\n",
        "\n",
        "    DataLoader(data['valid'], batch_size=batch_size, shuffle=False, num_workers=2),\n",
        "\n",
        "    ######################\n",
        "    ### YOUR CODE END ####\n",
        "    ######################\n",
        "}\n",
        "\n",
        "# Iterate through the dataloader once\n",
        "trainiter = iter(dataloaders['train'])\n",
        "features, labels = next(trainiter)\n",
        "features.shape, labels.shape"
      ]
    },
    {
      "cell_type": "markdown",
      "metadata": {
        "id": "JPQQ7iRaNgIp"
      },
      "source": [
        "### Setting Learning Parameters\n",
        "In our training process, we need to set up the loss function and optimizer tool."
      ]
    },
    {
      "cell_type": "code",
      "execution_count": 9,
      "metadata": {
        "colab": {
          "base_uri": "https://localhost:8080/",
          "height": 0
        },
        "id": "Y6PbdfxENdOJ",
        "outputId": "5197c850-8792-4dc7-bca6-d0e1e49aeec1"
      },
      "outputs": [
        {
          "output_type": "stream",
          "name": "stdout",
          "text": [
            "torch.Size([10, 4])\n",
            "torch.Size([10])\n",
            "torch.Size([3, 10])\n",
            "torch.Size([3])\n"
          ]
        }
      ],
      "source": [
        "# Set up your criterion and optimizer\n",
        "# You can use nn.CrossEntropyLoss() and optim.Adam()\n",
        "#####################\n",
        "### YOUR CODE HERE###\n",
        "#####################\n",
        "\n",
        "# Set up the criterion (loss function)\n",
        "criterion = nn.CrossEntropyLoss()\n",
        "\n",
        "# Set up the optimizer\n",
        "optimizer = optim.Adam(toy_model.parameters(), lr=0.001)  # You can adjust the learning rate as needed\n",
        "\n",
        "####################\n",
        "### YOUR CODE END###\n",
        "####################\n",
        "\n",
        "for p in optimizer.param_groups[0]['params']:\n",
        "    if p.requires_grad:\n",
        "        print(p.shape)"
      ]
    },
    {
      "cell_type": "markdown",
      "metadata": {
        "id": "Ck08UYlKcGtk"
      },
      "source": [
        "## Task 2: Build the Training Pipeline"
      ]
    },
    {
      "cell_type": "markdown",
      "metadata": {
        "id": "f5ep_QqOOiNn"
      },
      "source": [
        "### Training Process\n",
        "We are now defining the train function. Please follow the instruction to finish each part."
      ]
    },
    {
      "cell_type": "code",
      "execution_count": 10,
      "metadata": {
        "id": "vw16i2tlOcbt"
      },
      "outputs": [],
      "source": [
        "def train(model,\n",
        "          criterion,\n",
        "          optimizer,\n",
        "          train_loader,\n",
        "          valid_loader,\n",
        "          save_file_name,\n",
        "          max_epochs_stop=3,\n",
        "          n_epochs=10,\n",
        "          print_every=1):\n",
        "    \"\"\"Train a PyTorch Model\n",
        "\n",
        "    Params\n",
        "    --------\n",
        "        model (PyTorch model): cnn to train\n",
        "        criterion (PyTorch loss): objective to minimize\n",
        "        optimizer (PyTorch optimizier): optimizer to compute gradients of model parameters\n",
        "        train_loader (PyTorch dataloader): training dataloader to iterate through\n",
        "        valid_loader (PyTorch dataloader): validation dataloader used for early stopping\n",
        "        save_file_name (str ending in '.pt'): file path to save the model state dict\n",
        "        max_epochs_stop (int): maximum number of epochs with no improvement in validation loss for early stopping\n",
        "        n_epochs (int): maximum number of training epochs\n",
        "        print_every (int): frequency of epochs to print training stats\n",
        "\n",
        "    Returns\n",
        "    --------\n",
        "        model (PyTorch model): trained cnn with best weights\n",
        "        history (DataFrame): history of train and validation loss and accuracy\n",
        "    \"\"\"\n",
        "\n",
        "    model.to(torch.device(\"cuda:0\"))\n",
        "\n",
        "    # Early stopping intialization\n",
        "    epochs_no_improve = 0\n",
        "    valid_loss_min = np.Inf\n",
        "\n",
        "    valid_max_acc = 0\n",
        "    history = []\n",
        "\n",
        "    # Number of epochs already trained (if using loaded in model weights)\n",
        "    try:\n",
        "        print(f'Model has been trained for: {model.epochs} epochs.\\n')\n",
        "    except:\n",
        "        model.epochs = 0\n",
        "        print(f'Starting Training from Scratch.\\n')\n",
        "\n",
        "    overall_start = timer()\n",
        "\n",
        "    # Main loop\n",
        "    for epoch in range(n_epochs):\n",
        "\n",
        "        # keep track of training and validation loss each epoch\n",
        "        train_loss = 0.0\n",
        "        valid_loss = 0.0\n",
        "\n",
        "        train_acc = 0\n",
        "        valid_acc = 0\n",
        "\n",
        "        # Set to training\n",
        "        model.train()\n",
        "\n",
        "        start = timer()\n",
        "\n",
        "        # Training loop\n",
        "        for ii, (data, target) in enumerate(train_loader):\n",
        "\n",
        "            # Tensors to gpu, both model parameters, data, and target need to be tensors.\n",
        "            # You can use .cuda() function\n",
        "            ######################\n",
        "            ### YOUR CODE HERE ###\n",
        "            ######################\n",
        "\n",
        "            data, target = data.float().cuda(), target.long().cuda()\n",
        "\n",
        "            #####################\n",
        "            ### YOUR CODE END ###\n",
        "            #####################\n",
        "\n",
        "            # Clear gradients\n",
        "            optimizer.zero_grad()\n",
        "\n",
        "            # Forward path\n",
        "            ######################\n",
        "            ### YOUR CODE HERE ###\n",
        "            ######################\n",
        "\n",
        "            output = model(data)\n",
        "\n",
        "            #####################\n",
        "            ### YOUR CODE END ###\n",
        "            #####################\n",
        "\n",
        "            # Loss function\n",
        "            ######################\n",
        "            ### YOUR CODE HERE ###\n",
        "            ######################\n",
        "\n",
        "            loss = criterion(output, target)\n",
        "\n",
        "            #####################\n",
        "            ### YOUR CODE END ###\n",
        "            #####################\n",
        "\n",
        "            # Backward path (backpropagation)\n",
        "            ######################\n",
        "            ### YOUR CODE HERE ###\n",
        "            ######################\n",
        "\n",
        "            loss.backward()\n",
        "\n",
        "            #####################\n",
        "            ### YOUR CODE END ###\n",
        "            #####################\n",
        "\n",
        "            # Update the parameters\n",
        "            optimizer.step()\n",
        "\n",
        "            # Track train loss by multiplying average loss by number of examples in batch\n",
        "            train_loss += loss.item() * data.size(0)\n",
        "\n",
        "            # Calculate accuracy by finding max log probability\n",
        "            _, pred = torch.max(output, dim=1)\n",
        "            correct_tensor = pred.eq(target.data.view_as(pred))\n",
        "\n",
        "            # Need to convert correct tensor from int to float to average\n",
        "            accuracy = torch.mean(correct_tensor.type(torch.FloatTensor))\n",
        "\n",
        "            # Multiply average accuracy times the number of examples in batch\n",
        "            train_acc += accuracy.item() * data.size(0)\n",
        "\n",
        "            # Track training progress\n",
        "            print(\n",
        "                f'Epoch: {epoch}\\t{100 * (ii + 1) / len(train_loader):.2f}% complete. {timer() - start:.2f} seconds elapsed in epoch.',\n",
        "                end='\\r')\n",
        "\n",
        "        # After training loops ends, start validation\n",
        "        else:\n",
        "            model.epochs += 1\n",
        "\n",
        "            # Don't need to keep track of gradients\n",
        "            with torch.no_grad():\n",
        "\n",
        "                # Set to evaluation mode\n",
        "                model.eval()\n",
        "\n",
        "                # Validation loop\n",
        "                for data, target in valid_loader:\n",
        "                    # Tensors to gpu\n",
        "                    ######################\n",
        "                    ### YOUR CODE HERE ###\n",
        "                    ######################\n",
        "\n",
        "                    data, target = data.float().cuda(), target.long().cuda()\n",
        "\n",
        "                    #####################\n",
        "                    ### YOUR CODE END ###\n",
        "                    #####################\n",
        "\n",
        "                    # Forward path\n",
        "                    ######################\n",
        "                    ### YOUR CODE HERE ###\n",
        "                    ######################\n",
        "\n",
        "                    model.eval()\n",
        "                    output = model(data)\n",
        "\n",
        "                    #####################\n",
        "                    ### YOUR CODE END ###\n",
        "                    #####################\n",
        "\n",
        "                    # Validation loss computation\n",
        "                    ######################\n",
        "                    ### YOUR CODE HERE ###\n",
        "                    ######################\n",
        "\n",
        "                    loss = criterion(output, target)\n",
        "\n",
        "                    #####################\n",
        "                    ### YOUR CODE END ###\n",
        "                    #####################\n",
        "\n",
        "                    # Multiply average loss times the number of examples in batch\n",
        "                    valid_loss += loss.item() * data.size(0)\n",
        "\n",
        "                    # Calculate validation accuracy\n",
        "                    _, pred = torch.max(output, dim=1)\n",
        "                    correct_tensor = pred.eq(target.data.view_as(pred))\n",
        "                    accuracy = torch.mean(\n",
        "                    correct_tensor.type(torch.FloatTensor))\n",
        "\n",
        "                    # Multiply average accuracy times the number of examples\n",
        "                    valid_acc += accuracy.item() * data.size(0)\n",
        "\n",
        "\n",
        "                # Calculate average losses and Calculate average accuracy\n",
        "                train_loss = train_loss / len(train_loader.dataset)\n",
        "                valid_loss = valid_loss / len(valid_loader.dataset)\n",
        "\n",
        "                train_acc = train_acc / len(train_loader.dataset)\n",
        "                valid_acc = valid_acc / len(valid_loader.dataset)\n",
        "\n",
        "                history.append([train_loss, valid_loss, train_acc, valid_acc])\n",
        "\n",
        "                # Print training and validation results\n",
        "                if (epoch + 1) % print_every == 0:\n",
        "                    print(\n",
        "                        f'\\nEpoch: {epoch} \\tTraining Loss: {train_loss:.4f} \\tValidation Loss: {valid_loss:.4f}'\n",
        "                    )\n",
        "                    print(\n",
        "                        f'\\t\\tTraining Accuracy: {100 * train_acc:.2f}%\\t Validation Accuracy: {100 * valid_acc:.2f}%'\n",
        "                    )\n",
        "\n",
        "                # Save the model if validation loss decreases\n",
        "                if valid_loss < valid_loss_min:\n",
        "                    # Save model\n",
        "                    # You can use torch.save()\n",
        "                    ######################\n",
        "                    ### YOUR CODE HERE ###\n",
        "                    ######################\n",
        "\n",
        "                    torch.save(model.state_dict(), save_file_name)\n",
        "\n",
        "                    #####################\n",
        "                    ### YOUR CODE END ###\n",
        "                    #####################\n",
        "\n",
        "                    # Track improvement\n",
        "                    epochs_no_improve = 0\n",
        "                    valid_loss_min = valid_loss\n",
        "                    valid_best_acc = valid_acc\n",
        "                    best_epoch = epoch\n",
        "\n",
        "                # Otherwise increment count of epochs with no improvement\n",
        "                else:\n",
        "                    epochs_no_improve += 1\n",
        "                    # Trigger early stopping\n",
        "                    if epochs_no_improve >= max_epochs_stop:\n",
        "                        print(\n",
        "                            f'\\nEarly Stopping! Total epochs: {epoch}. Best epoch: {best_epoch} with loss: {valid_loss_min:.2f} and acc: {100 * valid_acc:.2f}%'\n",
        "                        )\n",
        "                        total_time = timer() - overall_start\n",
        "                        print(\n",
        "                            f'{total_time:.2f} total seconds elapsed. {total_time / (epoch+1):.2f} seconds per epoch.'\n",
        "                        )\n",
        "\n",
        "                        # Load the best state dict\n",
        "                        # You can use model.load_state_dict()\n",
        "                        ######################\n",
        "                        ### YOUR CODE HERE ###\n",
        "                        ######################\n",
        "\n",
        "                        model.load_state_dict(torch.load(save_file_name))\n",
        "\n",
        "                        #####################\n",
        "                        ### YOUR CODE END ###\n",
        "                        #####################\n",
        "\n",
        "                        # Attach the optimizer\n",
        "                        model.optimizer = optimizer\n",
        "\n",
        "                        # Format history\n",
        "                        history = pd.DataFrame(\n",
        "                            history,\n",
        "                            columns=[\n",
        "                                'train_loss', 'valid_loss', 'train_acc',\n",
        "                                'valid_acc'\n",
        "                            ])\n",
        "                        return model, history\n",
        "\n",
        "    # Attach the optimizer\n",
        "    model.optimizer = optimizer\n",
        "    # Record overall time and print out stats\n",
        "    total_time = timer() - overall_start\n",
        "    print(\n",
        "        f'\\nBest epoch: {best_epoch} with loss: {valid_loss_min:.2f} and acc: {100 * valid_best_acc:.2f}%'\n",
        "    )\n",
        "    print(\n",
        "        f'{total_time:.2f} total seconds elapsed. {total_time / (epoch+1):.2f} seconds per epoch.'\n",
        "    )\n",
        "    # Format history\n",
        "    history = pd.DataFrame(\n",
        "        history,\n",
        "        columns=['train_loss', 'valid_loss', 'train_acc', 'valid_acc'])\n",
        "    return model, history"
      ]
    },
    {
      "cell_type": "markdown",
      "metadata": {
        "id": "H4ZuMIexG7oo"
      },
      "source": [
        "## Task 3: Train the network"
      ]
    },
    {
      "cell_type": "markdown",
      "metadata": {
        "id": "p_dFSRgzmNWr"
      },
      "source": [
        "### Train a Network With Toy Data\n"
      ]
    },
    {
      "cell_type": "markdown",
      "metadata": {
        "id": "AdRJcmzXReJT"
      },
      "source": [
        "Well done! Once we finish our train process design, we can start to train our network with our toy dataset."
      ]
    },
    {
      "cell_type": "code",
      "execution_count": 12,
      "metadata": {
        "colab": {
          "base_uri": "https://localhost:8080/",
          "height": 0
        },
        "id": "LFI9SHsuReqs",
        "outputId": "576afc40-623b-4bdf-81a4-26551d7e72d7"
      },
      "outputs": [
        {
          "output_type": "stream",
          "name": "stdout",
          "text": [
            "Starting Training from Scratch.\n",
            "\n",
            "\n",
            "Epoch: 0 \tTraining Loss: 1.3627 \tValidation Loss: 1.6489\n",
            "\t\tTraining Accuracy: 20.00%\t Validation Accuracy: 0.00%\n",
            "\n",
            "Epoch: 1 \tTraining Loss: 2.0456 \tValidation Loss: 1.5889\n",
            "\t\tTraining Accuracy: 20.00%\t Validation Accuracy: 0.00%\n",
            "\n",
            "Epoch: 2 \tTraining Loss: 1.9650 \tValidation Loss: 1.5184\n",
            "\t\tTraining Accuracy: 20.00%\t Validation Accuracy: 20.00%\n",
            "\n",
            "Epoch: 3 \tTraining Loss: 1.6205 \tValidation Loss: 1.4523\n",
            "\t\tTraining Accuracy: 0.00%\t Validation Accuracy: 20.00%\n",
            "\n",
            "Epoch: 4 \tTraining Loss: 2.0932 \tValidation Loss: 1.3954\n",
            "\t\tTraining Accuracy: 20.00%\t Validation Accuracy: 20.00%\n",
            "\n",
            "Epoch: 5 \tTraining Loss: 1.4400 \tValidation Loss: 1.3405\n",
            "\t\tTraining Accuracy: 20.00%\t Validation Accuracy: 20.00%\n",
            "\n",
            "Epoch: 6 \tTraining Loss: 1.1440 \tValidation Loss: 1.2968\n",
            "\t\tTraining Accuracy: 60.00%\t Validation Accuracy: 20.00%\n",
            "\n",
            "Epoch: 7 \tTraining Loss: 1.5679 \tValidation Loss: 1.2544\n",
            "\t\tTraining Accuracy: 0.00%\t Validation Accuracy: 20.00%\n",
            "\n",
            "Epoch: 8 \tTraining Loss: 3.6861 \tValidation Loss: 1.2084\n",
            "\t\tTraining Accuracy: 20.00%\t Validation Accuracy: 20.00%\n",
            "\n",
            "Epoch: 9 \tTraining Loss: 4.0287 \tValidation Loss: 1.1526\n",
            "\t\tTraining Accuracy: 0.00%\t Validation Accuracy: 20.00%\n",
            "\n",
            "Epoch: 10 \tTraining Loss: 1.1180 \tValidation Loss: 1.1077\n",
            "\t\tTraining Accuracy: 40.00%\t Validation Accuracy: 20.00%\n",
            "\n",
            "Epoch: 11 \tTraining Loss: 1.1611 \tValidation Loss: 1.0696\n",
            "\t\tTraining Accuracy: 60.00%\t Validation Accuracy: 20.00%\n",
            "\n",
            "Epoch: 12 \tTraining Loss: 3.8519 \tValidation Loss: 1.0274\n",
            "\t\tTraining Accuracy: 0.00%\t Validation Accuracy: 20.00%\n",
            "\n",
            "Epoch: 13 \tTraining Loss: 1.2667 \tValidation Loss: 0.9851\n",
            "\t\tTraining Accuracy: 20.00%\t Validation Accuracy: 40.00%\n",
            "\n",
            "Epoch: 14 \tTraining Loss: 1.8419 \tValidation Loss: 0.9473\n",
            "\t\tTraining Accuracy: 40.00%\t Validation Accuracy: 40.00%\n",
            "\n",
            "Epoch: 15 \tTraining Loss: 0.7994 \tValidation Loss: 0.9061\n",
            "\t\tTraining Accuracy: 60.00%\t Validation Accuracy: 60.00%\n",
            "\n",
            "Epoch: 16 \tTraining Loss: 1.1749 \tValidation Loss: 0.8695\n",
            "\t\tTraining Accuracy: 20.00%\t Validation Accuracy: 60.00%\n",
            "\n",
            "Epoch: 17 \tTraining Loss: 1.8167 \tValidation Loss: 0.8375\n",
            "\t\tTraining Accuracy: 20.00%\t Validation Accuracy: 60.00%\n",
            "\n",
            "Epoch: 18 \tTraining Loss: 1.6171 \tValidation Loss: 0.8027\n",
            "\t\tTraining Accuracy: 40.00%\t Validation Accuracy: 60.00%\n",
            "\n",
            "Epoch: 19 \tTraining Loss: 3.0767 \tValidation Loss: 0.7731\n",
            "\t\tTraining Accuracy: 0.00%\t Validation Accuracy: 60.00%\n",
            "\n",
            "Epoch: 20 \tTraining Loss: 0.9129 \tValidation Loss: 0.7460\n",
            "\t\tTraining Accuracy: 40.00%\t Validation Accuracy: 60.00%\n",
            "\n",
            "Epoch: 21 \tTraining Loss: 0.9608 \tValidation Loss: 0.7231\n",
            "\t\tTraining Accuracy: 40.00%\t Validation Accuracy: 60.00%\n",
            "\n",
            "Epoch: 22 \tTraining Loss: 1.6041 \tValidation Loss: 0.7061\n",
            "\t\tTraining Accuracy: 40.00%\t Validation Accuracy: 60.00%\n",
            "\n",
            "Epoch: 23 \tTraining Loss: 1.0366 \tValidation Loss: 0.6924\n",
            "\t\tTraining Accuracy: 40.00%\t Validation Accuracy: 60.00%\n",
            "\n",
            "Epoch: 24 \tTraining Loss: 0.9827 \tValidation Loss: 0.6737\n",
            "\t\tTraining Accuracy: 60.00%\t Validation Accuracy: 80.00%\n",
            "\n",
            "Epoch: 25 \tTraining Loss: 1.0434 \tValidation Loss: 0.6522\n",
            "\t\tTraining Accuracy: 20.00%\t Validation Accuracy: 80.00%\n",
            "\n",
            "Epoch: 26 \tTraining Loss: 0.7174 \tValidation Loss: 0.6314\n",
            "\t\tTraining Accuracy: 60.00%\t Validation Accuracy: 80.00%\n",
            "\n",
            "Epoch: 27 \tTraining Loss: 1.1371 \tValidation Loss: 0.6094\n",
            "\t\tTraining Accuracy: 40.00%\t Validation Accuracy: 80.00%\n",
            "\n",
            "Epoch: 28 \tTraining Loss: 0.7254 \tValidation Loss: 0.5848\n",
            "\t\tTraining Accuracy: 60.00%\t Validation Accuracy: 80.00%\n",
            "\n",
            "Epoch: 29 \tTraining Loss: 2.2617 \tValidation Loss: 0.5634\n",
            "\t\tTraining Accuracy: 40.00%\t Validation Accuracy: 80.00%\n",
            "\n",
            "Epoch: 30 \tTraining Loss: 0.5884 \tValidation Loss: 0.5418\n",
            "\t\tTraining Accuracy: 60.00%\t Validation Accuracy: 80.00%\n",
            "\n",
            "Epoch: 31 \tTraining Loss: 0.9872 \tValidation Loss: 0.5231\n",
            "\t\tTraining Accuracy: 20.00%\t Validation Accuracy: 100.00%\n",
            "\n",
            "Epoch: 32 \tTraining Loss: 0.5368 \tValidation Loss: 0.5060\n",
            "\t\tTraining Accuracy: 80.00%\t Validation Accuracy: 100.00%\n",
            "\n",
            "Epoch: 33 \tTraining Loss: 0.4242 \tValidation Loss: 0.4899\n",
            "\t\tTraining Accuracy: 100.00%\t Validation Accuracy: 100.00%\n",
            "\n",
            "Epoch: 34 \tTraining Loss: 0.5096 \tValidation Loss: 0.4770\n",
            "\t\tTraining Accuracy: 80.00%\t Validation Accuracy: 100.00%\n",
            "\n",
            "Epoch: 35 \tTraining Loss: 0.5543 \tValidation Loss: 0.4637\n",
            "\t\tTraining Accuracy: 60.00%\t Validation Accuracy: 100.00%\n",
            "\n",
            "Epoch: 36 \tTraining Loss: 2.0106 \tValidation Loss: 0.4496\n",
            "\t\tTraining Accuracy: 60.00%\t Validation Accuracy: 100.00%\n",
            "\n",
            "Epoch: 37 \tTraining Loss: 0.8251 \tValidation Loss: 0.4392\n",
            "\t\tTraining Accuracy: 60.00%\t Validation Accuracy: 100.00%\n",
            "\n",
            "Epoch: 38 \tTraining Loss: 0.9390 \tValidation Loss: 0.4254\n",
            "\t\tTraining Accuracy: 60.00%\t Validation Accuracy: 100.00%\n",
            "\n",
            "Epoch: 39 \tTraining Loss: 1.7709 \tValidation Loss: 0.4111\n",
            "\t\tTraining Accuracy: 40.00%\t Validation Accuracy: 100.00%\n",
            "\n",
            "Epoch: 40 \tTraining Loss: 0.8011 \tValidation Loss: 0.3986\n",
            "\t\tTraining Accuracy: 80.00%\t Validation Accuracy: 100.00%\n",
            "\n",
            "Epoch: 41 \tTraining Loss: 0.2719 \tValidation Loss: 0.3862\n",
            "\t\tTraining Accuracy: 80.00%\t Validation Accuracy: 100.00%\n",
            "\n",
            "Epoch: 42 \tTraining Loss: 0.4032 \tValidation Loss: 0.3732\n",
            "\t\tTraining Accuracy: 100.00%\t Validation Accuracy: 100.00%\n",
            "\n",
            "Epoch: 43 \tTraining Loss: 0.7265 \tValidation Loss: 0.3602\n",
            "\t\tTraining Accuracy: 80.00%\t Validation Accuracy: 100.00%\n",
            "\n",
            "Epoch: 44 \tTraining Loss: 0.2315 \tValidation Loss: 0.3472\n",
            "\t\tTraining Accuracy: 100.00%\t Validation Accuracy: 100.00%\n",
            "\n",
            "Epoch: 45 \tTraining Loss: 0.5494 \tValidation Loss: 0.3342\n",
            "\t\tTraining Accuracy: 80.00%\t Validation Accuracy: 100.00%\n",
            "\n",
            "Epoch: 46 \tTraining Loss: 0.4742 \tValidation Loss: 0.3238\n",
            "\t\tTraining Accuracy: 80.00%\t Validation Accuracy: 100.00%\n",
            "\n",
            "Epoch: 47 \tTraining Loss: 0.4280 \tValidation Loss: 0.3151\n",
            "\t\tTraining Accuracy: 80.00%\t Validation Accuracy: 100.00%\n",
            "\n",
            "Epoch: 48 \tTraining Loss: 1.4992 \tValidation Loss: 0.3068\n",
            "\t\tTraining Accuracy: 60.00%\t Validation Accuracy: 100.00%\n",
            "\n",
            "Epoch: 49 \tTraining Loss: 1.1190 \tValidation Loss: 0.2994\n",
            "\t\tTraining Accuracy: 40.00%\t Validation Accuracy: 100.00%\n",
            "\n",
            "Epoch: 50 \tTraining Loss: 0.4293 \tValidation Loss: 0.2917\n",
            "\t\tTraining Accuracy: 100.00%\t Validation Accuracy: 100.00%\n",
            "\n",
            "Epoch: 51 \tTraining Loss: 0.3653 \tValidation Loss: 0.2809\n",
            "\t\tTraining Accuracy: 100.00%\t Validation Accuracy: 100.00%\n",
            "\n",
            "Epoch: 52 \tTraining Loss: 0.6417 \tValidation Loss: 0.2729\n",
            "\t\tTraining Accuracy: 80.00%\t Validation Accuracy: 100.00%\n",
            "\n",
            "Epoch: 53 \tTraining Loss: 0.6102 \tValidation Loss: 0.2654\n",
            "\t\tTraining Accuracy: 80.00%\t Validation Accuracy: 100.00%\n",
            "\n",
            "Epoch: 54 \tTraining Loss: 0.3997 \tValidation Loss: 0.2581\n",
            "\t\tTraining Accuracy: 80.00%\t Validation Accuracy: 100.00%\n",
            "\n",
            "Epoch: 55 \tTraining Loss: 0.9281 \tValidation Loss: 0.2506\n",
            "\t\tTraining Accuracy: 80.00%\t Validation Accuracy: 100.00%\n",
            "\n",
            "Epoch: 56 \tTraining Loss: 0.8966 \tValidation Loss: 0.2446\n",
            "\t\tTraining Accuracy: 60.00%\t Validation Accuracy: 100.00%\n",
            "\n",
            "Epoch: 57 \tTraining Loss: 0.6528 \tValidation Loss: 0.2408\n",
            "\t\tTraining Accuracy: 80.00%\t Validation Accuracy: 100.00%\n",
            "\n",
            "Epoch: 58 \tTraining Loss: 1.1909 \tValidation Loss: 0.2351\n",
            "\t\tTraining Accuracy: 60.00%\t Validation Accuracy: 100.00%\n",
            "\n",
            "Epoch: 59 \tTraining Loss: 0.4000 \tValidation Loss: 0.2286\n",
            "\t\tTraining Accuracy: 80.00%\t Validation Accuracy: 100.00%\n",
            "\n",
            "Epoch: 60 \tTraining Loss: 0.7568 \tValidation Loss: 0.2250\n",
            "\t\tTraining Accuracy: 80.00%\t Validation Accuracy: 100.00%\n",
            "\n",
            "Epoch: 61 \tTraining Loss: 0.9646 \tValidation Loss: 0.2198\n",
            "\t\tTraining Accuracy: 40.00%\t Validation Accuracy: 100.00%\n",
            "\n",
            "Epoch: 62 \tTraining Loss: 0.2046 \tValidation Loss: 0.2146\n",
            "\t\tTraining Accuracy: 100.00%\t Validation Accuracy: 100.00%\n",
            "\n",
            "Epoch: 63 \tTraining Loss: 0.1559 \tValidation Loss: 0.2101\n",
            "\t\tTraining Accuracy: 100.00%\t Validation Accuracy: 100.00%\n",
            "\n",
            "Epoch: 64 \tTraining Loss: 0.5146 \tValidation Loss: 0.2041\n",
            "\t\tTraining Accuracy: 60.00%\t Validation Accuracy: 100.00%\n",
            "\n",
            "Epoch: 65 \tTraining Loss: 1.1294 \tValidation Loss: 0.1992\n",
            "\t\tTraining Accuracy: 60.00%\t Validation Accuracy: 100.00%\n",
            "\n",
            "Epoch: 66 \tTraining Loss: 0.8209 \tValidation Loss: 0.1939\n",
            "\t\tTraining Accuracy: 80.00%\t Validation Accuracy: 100.00%\n",
            "\n",
            "Epoch: 67 \tTraining Loss: 0.3837 \tValidation Loss: 0.1900\n",
            "\t\tTraining Accuracy: 80.00%\t Validation Accuracy: 100.00%\n",
            "\n",
            "Epoch: 68 \tTraining Loss: 0.1698 \tValidation Loss: 0.1853\n",
            "\t\tTraining Accuracy: 100.00%\t Validation Accuracy: 100.00%\n",
            "\n",
            "Epoch: 69 \tTraining Loss: 0.3756 \tValidation Loss: 0.1788\n",
            "\t\tTraining Accuracy: 80.00%\t Validation Accuracy: 100.00%\n",
            "\n",
            "Epoch: 70 \tTraining Loss: 0.6373 \tValidation Loss: 0.1736\n",
            "\t\tTraining Accuracy: 60.00%\t Validation Accuracy: 100.00%\n",
            "\n",
            "Epoch: 71 \tTraining Loss: 0.4973 \tValidation Loss: 0.1702\n",
            "\t\tTraining Accuracy: 80.00%\t Validation Accuracy: 100.00%\n",
            "\n",
            "Epoch: 72 \tTraining Loss: 0.9574 \tValidation Loss: 0.1657\n",
            "\t\tTraining Accuracy: 60.00%\t Validation Accuracy: 100.00%\n",
            "\n",
            "Epoch: 73 \tTraining Loss: 0.3827 \tValidation Loss: 0.1612\n",
            "\t\tTraining Accuracy: 80.00%\t Validation Accuracy: 100.00%\n",
            "\n",
            "Epoch: 74 \tTraining Loss: 0.3465 \tValidation Loss: 0.1572\n",
            "\t\tTraining Accuracy: 80.00%\t Validation Accuracy: 100.00%\n",
            "\n",
            "Epoch: 75 \tTraining Loss: 0.3485 \tValidation Loss: 0.1509\n",
            "\t\tTraining Accuracy: 100.00%\t Validation Accuracy: 100.00%\n",
            "\n",
            "Epoch: 76 \tTraining Loss: 0.6291 \tValidation Loss: 0.1465\n",
            "\t\tTraining Accuracy: 60.00%\t Validation Accuracy: 100.00%\n",
            "\n",
            "Epoch: 77 \tTraining Loss: 0.4379 \tValidation Loss: 0.1431\n",
            "\t\tTraining Accuracy: 80.00%\t Validation Accuracy: 100.00%\n",
            "\n",
            "Epoch: 78 \tTraining Loss: 0.6582 \tValidation Loss: 0.1442\n",
            "\t\tTraining Accuracy: 60.00%\t Validation Accuracy: 100.00%\n",
            "\n",
            "Epoch: 79 \tTraining Loss: 0.3241 \tValidation Loss: 0.1434\n",
            "\t\tTraining Accuracy: 100.00%\t Validation Accuracy: 100.00%\n",
            "\n",
            "Epoch: 80 \tTraining Loss: 0.2822 \tValidation Loss: 0.1426\n",
            "\t\tTraining Accuracy: 80.00%\t Validation Accuracy: 100.00%\n",
            "\n",
            "Epoch: 81 \tTraining Loss: 0.2823 \tValidation Loss: 0.1411\n",
            "\t\tTraining Accuracy: 80.00%\t Validation Accuracy: 100.00%\n",
            "\n",
            "Epoch: 82 \tTraining Loss: 0.4378 \tValidation Loss: 0.1390\n",
            "\t\tTraining Accuracy: 80.00%\t Validation Accuracy: 100.00%\n",
            "\n",
            "Epoch: 83 \tTraining Loss: 0.4965 \tValidation Loss: 0.1364\n",
            "\t\tTraining Accuracy: 60.00%\t Validation Accuracy: 100.00%\n",
            "\n",
            "Epoch: 84 \tTraining Loss: 0.1030 \tValidation Loss: 0.1324\n",
            "\t\tTraining Accuracy: 100.00%\t Validation Accuracy: 100.00%\n",
            "\n",
            "Epoch: 85 \tTraining Loss: 0.4756 \tValidation Loss: 0.1293\n",
            "\t\tTraining Accuracy: 60.00%\t Validation Accuracy: 100.00%\n",
            "\n",
            "Epoch: 86 \tTraining Loss: 0.3045 \tValidation Loss: 0.1263\n",
            "\t\tTraining Accuracy: 80.00%\t Validation Accuracy: 100.00%\n",
            "\n",
            "Epoch: 87 \tTraining Loss: 0.9327 \tValidation Loss: 0.1251\n",
            "\t\tTraining Accuracy: 20.00%\t Validation Accuracy: 100.00%\n",
            "\n",
            "Epoch: 88 \tTraining Loss: 0.8702 \tValidation Loss: 0.1229\n",
            "\t\tTraining Accuracy: 60.00%\t Validation Accuracy: 100.00%\n",
            "\n",
            "Epoch: 89 \tTraining Loss: 1.0365 \tValidation Loss: 0.1205\n",
            "\t\tTraining Accuracy: 60.00%\t Validation Accuracy: 100.00%\n",
            "\n",
            "Epoch: 90 \tTraining Loss: 0.2469 \tValidation Loss: 0.1176\n",
            "\t\tTraining Accuracy: 100.00%\t Validation Accuracy: 100.00%\n",
            "\n",
            "Epoch: 91 \tTraining Loss: 0.3835 \tValidation Loss: 0.1141\n",
            "\t\tTraining Accuracy: 80.00%\t Validation Accuracy: 100.00%\n",
            "\n",
            "Epoch: 92 \tTraining Loss: 0.6688 \tValidation Loss: 0.1113\n",
            "\t\tTraining Accuracy: 80.00%\t Validation Accuracy: 100.00%\n",
            "\n",
            "Epoch: 93 \tTraining Loss: 0.8667 \tValidation Loss: 0.1102\n",
            "\t\tTraining Accuracy: 60.00%\t Validation Accuracy: 100.00%\n",
            "\n",
            "Epoch: 94 \tTraining Loss: 0.2509 \tValidation Loss: 0.1088\n",
            "\t\tTraining Accuracy: 100.00%\t Validation Accuracy: 100.00%\n",
            "\n",
            "Epoch: 95 \tTraining Loss: 0.4273 \tValidation Loss: 0.1063\n",
            "\t\tTraining Accuracy: 80.00%\t Validation Accuracy: 100.00%\n",
            "\n",
            "Epoch: 96 \tTraining Loss: 0.5447 \tValidation Loss: 0.1043\n",
            "\t\tTraining Accuracy: 60.00%\t Validation Accuracy: 100.00%\n",
            "\n",
            "Epoch: 97 \tTraining Loss: 0.3556 \tValidation Loss: 0.1021\n",
            "\t\tTraining Accuracy: 100.00%\t Validation Accuracy: 100.00%\n",
            "\n",
            "Epoch: 98 \tTraining Loss: 0.9114 \tValidation Loss: 0.1005\n",
            "\t\tTraining Accuracy: 20.00%\t Validation Accuracy: 100.00%\n",
            "\n",
            "Epoch: 99 \tTraining Loss: 0.5809 \tValidation Loss: 0.0998\n",
            "\t\tTraining Accuracy: 60.00%\t Validation Accuracy: 100.00%\n",
            "\n",
            "Epoch: 100 \tTraining Loss: 0.4155 \tValidation Loss: 0.0982\n",
            "\t\tTraining Accuracy: 80.00%\t Validation Accuracy: 100.00%\n",
            "\n",
            "Epoch: 101 \tTraining Loss: 0.0329 \tValidation Loss: 0.0968\n",
            "\t\tTraining Accuracy: 100.00%\t Validation Accuracy: 100.00%\n",
            "\n",
            "Epoch: 102 \tTraining Loss: 0.8652 \tValidation Loss: 0.0961\n",
            "\t\tTraining Accuracy: 60.00%\t Validation Accuracy: 100.00%\n",
            "\n",
            "Epoch: 103 \tTraining Loss: 0.3877 \tValidation Loss: 0.0947\n",
            "\t\tTraining Accuracy: 100.00%\t Validation Accuracy: 100.00%\n",
            "\n",
            "Epoch: 104 \tTraining Loss: 0.6389 \tValidation Loss: 0.0937\n",
            "\t\tTraining Accuracy: 80.00%\t Validation Accuracy: 100.00%\n",
            "\n",
            "Epoch: 105 \tTraining Loss: 0.1234 \tValidation Loss: 0.0921\n",
            "\t\tTraining Accuracy: 100.00%\t Validation Accuracy: 100.00%\n",
            "\n",
            "Epoch: 106 \tTraining Loss: 0.5688 \tValidation Loss: 0.0912\n",
            "\t\tTraining Accuracy: 60.00%\t Validation Accuracy: 100.00%\n",
            "\n",
            "Epoch: 107 \tTraining Loss: 0.6184 \tValidation Loss: 0.0902\n",
            "\t\tTraining Accuracy: 60.00%\t Validation Accuracy: 100.00%\n",
            "\n",
            "Epoch: 108 \tTraining Loss: 0.5175 \tValidation Loss: 0.0891\n",
            "\t\tTraining Accuracy: 80.00%\t Validation Accuracy: 100.00%\n",
            "\n",
            "Epoch: 109 \tTraining Loss: 0.3479 \tValidation Loss: 0.0884\n",
            "\t\tTraining Accuracy: 80.00%\t Validation Accuracy: 100.00%\n",
            "\n",
            "Epoch: 110 \tTraining Loss: 0.2764 \tValidation Loss: 0.0879\n",
            "\t\tTraining Accuracy: 100.00%\t Validation Accuracy: 100.00%\n",
            "\n",
            "Epoch: 111 \tTraining Loss: 0.2622 \tValidation Loss: 0.0874\n",
            "\t\tTraining Accuracy: 80.00%\t Validation Accuracy: 100.00%\n",
            "\n",
            "Epoch: 112 \tTraining Loss: 0.7770 \tValidation Loss: 0.0878\n",
            "\t\tTraining Accuracy: 60.00%\t Validation Accuracy: 100.00%\n",
            "\n",
            "Epoch: 113 \tTraining Loss: 0.4338 \tValidation Loss: 0.0870\n",
            "\t\tTraining Accuracy: 80.00%\t Validation Accuracy: 100.00%\n",
            "\n",
            "Epoch: 114 \tTraining Loss: 0.5948 \tValidation Loss: 0.0863\n",
            "\t\tTraining Accuracy: 80.00%\t Validation Accuracy: 100.00%\n",
            "\n",
            "Epoch: 115 \tTraining Loss: 0.1378 \tValidation Loss: 0.0856\n",
            "\t\tTraining Accuracy: 100.00%\t Validation Accuracy: 100.00%\n",
            "\n",
            "Epoch: 116 \tTraining Loss: 0.4825 \tValidation Loss: 0.0848\n",
            "\t\tTraining Accuracy: 60.00%\t Validation Accuracy: 100.00%\n",
            "\n",
            "Epoch: 117 \tTraining Loss: 0.9793 \tValidation Loss: 0.0839\n",
            "\t\tTraining Accuracy: 60.00%\t Validation Accuracy: 100.00%\n",
            "\n",
            "Epoch: 118 \tTraining Loss: 0.3971 \tValidation Loss: 0.0833\n",
            "\t\tTraining Accuracy: 80.00%\t Validation Accuracy: 100.00%\n",
            "\n",
            "Epoch: 119 \tTraining Loss: 0.3879 \tValidation Loss: 0.0820\n",
            "\t\tTraining Accuracy: 80.00%\t Validation Accuracy: 100.00%\n",
            "\n",
            "Epoch: 120 \tTraining Loss: 0.4301 \tValidation Loss: 0.0822\n",
            "\t\tTraining Accuracy: 80.00%\t Validation Accuracy: 100.00%\n",
            "\n",
            "Epoch: 121 \tTraining Loss: 0.6952 \tValidation Loss: 0.0820\n",
            "\t\tTraining Accuracy: 60.00%\t Validation Accuracy: 100.00%\n",
            "\n",
            "Epoch: 122 \tTraining Loss: 0.1491 \tValidation Loss: 0.0819\n",
            "\t\tTraining Accuracy: 100.00%\t Validation Accuracy: 100.00%\n",
            "\n",
            "Epoch: 123 \tTraining Loss: 0.1298 \tValidation Loss: 0.0815\n",
            "\t\tTraining Accuracy: 100.00%\t Validation Accuracy: 100.00%\n",
            "\n",
            "Epoch: 124 \tTraining Loss: 0.1007 \tValidation Loss: 0.0799\n",
            "\t\tTraining Accuracy: 100.00%\t Validation Accuracy: 100.00%\n",
            "\n",
            "Epoch: 125 \tTraining Loss: 0.2918 \tValidation Loss: 0.0781\n",
            "\t\tTraining Accuracy: 80.00%\t Validation Accuracy: 100.00%\n",
            "\n",
            "Epoch: 126 \tTraining Loss: 0.3753 \tValidation Loss: 0.0757\n",
            "\t\tTraining Accuracy: 100.00%\t Validation Accuracy: 100.00%\n",
            "\n",
            "Epoch: 127 \tTraining Loss: 0.3620 \tValidation Loss: 0.0729\n",
            "\t\tTraining Accuracy: 100.00%\t Validation Accuracy: 100.00%\n",
            "\n",
            "Epoch: 128 \tTraining Loss: 0.6058 \tValidation Loss: 0.0713\n",
            "\t\tTraining Accuracy: 60.00%\t Validation Accuracy: 100.00%\n",
            "\n",
            "Epoch: 129 \tTraining Loss: 0.0306 \tValidation Loss: 0.0698\n",
            "\t\tTraining Accuracy: 100.00%\t Validation Accuracy: 100.00%\n",
            "\n",
            "Epoch: 130 \tTraining Loss: 0.0812 \tValidation Loss: 0.0682\n",
            "\t\tTraining Accuracy: 100.00%\t Validation Accuracy: 100.00%\n",
            "\n",
            "Epoch: 131 \tTraining Loss: 0.2290 \tValidation Loss: 0.0662\n",
            "\t\tTraining Accuracy: 100.00%\t Validation Accuracy: 100.00%\n",
            "\n",
            "Epoch: 132 \tTraining Loss: 0.0649 \tValidation Loss: 0.0643\n",
            "\t\tTraining Accuracy: 100.00%\t Validation Accuracy: 100.00%\n",
            "\n",
            "Epoch: 133 \tTraining Loss: 0.5572 \tValidation Loss: 0.0628\n",
            "\t\tTraining Accuracy: 80.00%\t Validation Accuracy: 100.00%\n",
            "\n",
            "Epoch: 134 \tTraining Loss: 0.6812 \tValidation Loss: 0.0613\n",
            "\t\tTraining Accuracy: 80.00%\t Validation Accuracy: 100.00%\n",
            "\n",
            "Epoch: 135 \tTraining Loss: 0.5131 \tValidation Loss: 0.0610\n",
            "\t\tTraining Accuracy: 60.00%\t Validation Accuracy: 100.00%\n",
            "\n",
            "Epoch: 136 \tTraining Loss: 0.3264 \tValidation Loss: 0.0611\n",
            "\t\tTraining Accuracy: 80.00%\t Validation Accuracy: 100.00%\n",
            "\n",
            "Epoch: 137 \tTraining Loss: 0.4403 \tValidation Loss: 0.0611\n",
            "\t\tTraining Accuracy: 80.00%\t Validation Accuracy: 100.00%\n",
            "\n",
            "Epoch: 138 \tTraining Loss: 0.2926 \tValidation Loss: 0.0615\n",
            "\t\tTraining Accuracy: 80.00%\t Validation Accuracy: 100.00%\n",
            "\n",
            "Early Stopping! Total epochs: 138. Best epoch: 135 with loss: 0.06 and acc: 100.00%\n",
            "44.55 total seconds elapsed. 0.32 seconds per epoch.\n"
          ]
        }
      ],
      "source": [
        "from timeit import default_timer as timer\n",
        "save_file_name = f'toy_model_best_model.pt'\n",
        "train_on_gpu = cuda.is_available()\n",
        "\n",
        "model, history = train(toy_model,\n",
        "    criterion,\n",
        "    optimizer,\n",
        "    dataloaders['train'],\n",
        "    dataloaders['valid'],\n",
        "    save_file_name=save_file_name,\n",
        "    max_epochs_stop=3,\n",
        "    n_epochs=500,\n",
        "    print_every=1)"
      ]
    },
    {
      "cell_type": "markdown",
      "metadata": {
        "id": "n5oRuk5hSEYx"
      },
      "source": [
        "Now, we can check the losses and accuracy during the training."
      ]
    },
    {
      "cell_type": "code",
      "execution_count": 13,
      "metadata": {
        "id": "-yJuZ4W2SD1W",
        "colab": {
          "base_uri": "https://localhost:8080/",
          "height": 689
        },
        "outputId": "cebd2032-7a0b-461d-aee7-76c9717a6ecb"
      },
      "outputs": [
        {
          "output_type": "execute_result",
          "data": {
            "text/plain": [
              "<Figure size 800x600 with 0 Axes>"
            ]
          },
          "metadata": {},
          "execution_count": 13
        },
        {
          "output_type": "execute_result",
          "data": {
            "text/plain": [
              "[<matplotlib.lines.Line2D at 0x79b8622e8850>]"
            ]
          },
          "metadata": {},
          "execution_count": 13
        },
        {
          "output_type": "execute_result",
          "data": {
            "text/plain": [
              "[<matplotlib.lines.Line2D at 0x79b8622e8c70>]"
            ]
          },
          "metadata": {},
          "execution_count": 13
        },
        {
          "output_type": "execute_result",
          "data": {
            "text/plain": [
              "<matplotlib.legend.Legend at 0x79b868e5dc30>"
            ]
          },
          "metadata": {},
          "execution_count": 13
        },
        {
          "output_type": "execute_result",
          "data": {
            "text/plain": [
              "Text(0.5, 0, 'Epoch')"
            ]
          },
          "metadata": {},
          "execution_count": 13
        },
        {
          "output_type": "execute_result",
          "data": {
            "text/plain": [
              "Text(0, 0.5, 'Average Negative Log Likelihood')"
            ]
          },
          "metadata": {},
          "execution_count": 13
        },
        {
          "output_type": "execute_result",
          "data": {
            "text/plain": [
              "Text(0.5, 1.0, 'Training and Validation Losses')"
            ]
          },
          "metadata": {},
          "execution_count": 13
        },
        {
          "output_type": "display_data",
          "data": {
            "text/plain": [
              "<Figure size 800x600 with 1 Axes>"
            ],
            "image/png": "[encoded data removed]"
          },
          "metadata": {}
        }
      ],
      "source": [
        "plt.figure(figsize=(8, 6))\n",
        "for c in ['train_loss', 'valid_loss']:\n",
        "    plt.plot(\n",
        "        history[c], label=c)\n",
        "plt.legend()\n",
        "plt.xlabel('Epoch')\n",
        "plt.ylabel('Average Negative Log Likelihood')\n",
        "plt.title('Training and Validation Losses')\n",
        "plt.show()"
      ]
    },
    {
      "cell_type": "code",
      "execution_count": 14,
      "metadata": {
        "id": "nT_VflxLSPca",
        "colab": {
          "base_uri": "https://localhost:8080/",
          "height": 689
        },
        "outputId": "7a79de30-72de-4dbf-a0ba-4d1633fe778b"
      },
      "outputs": [
        {
          "output_type": "execute_result",
          "data": {
            "text/plain": [
              "<Figure size 800x600 with 0 Axes>"
            ]
          },
          "metadata": {},
          "execution_count": 14
        },
        {
          "output_type": "execute_result",
          "data": {
            "text/plain": [
              "[<matplotlib.lines.Line2D at 0x79b844172950>]"
            ]
          },
          "metadata": {},
          "execution_count": 14
        },
        {
          "output_type": "execute_result",
          "data": {
            "text/plain": [
              "[<matplotlib.lines.Line2D at 0x79b844172bf0>]"
            ]
          },
          "metadata": {},
          "execution_count": 14
        },
        {
          "output_type": "execute_result",
          "data": {
            "text/plain": [
              "<matplotlib.legend.Legend at 0x79b844135d50>"
            ]
          },
          "metadata": {},
          "execution_count": 14
        },
        {
          "output_type": "execute_result",
          "data": {
            "text/plain": [
              "Text(0.5, 0, 'Epoch')"
            ]
          },
          "metadata": {},
          "execution_count": 14
        },
        {
          "output_type": "execute_result",
          "data": {
            "text/plain": [
              "Text(0, 0.5, 'Average Accuracy')"
            ]
          },
          "metadata": {},
          "execution_count": 14
        },
        {
          "output_type": "execute_result",
          "data": {
            "text/plain": [
              "Text(0.5, 1.0, 'Training and Validation Accuracy')"
            ]
          },
          "metadata": {},
          "execution_count": 14
        },
        {
          "output_type": "display_data",
          "data": {
            "text/plain": [
              "<Figure size 800x600 with 1 Axes>"
            ],
            "image/png": "[encoded data removed]"
          },
          "metadata": {}
        }
      ],
      "source": [
        "plt.figure(figsize=(8, 6))\n",
        "for c in ['train_acc', 'valid_acc']:\n",
        "    plt.plot(\n",
        "        100 * history[c], label=c)\n",
        "plt.legend()\n",
        "plt.xlabel('Epoch')\n",
        "plt.ylabel('Average Accuracy')\n",
        "plt.title('Training and Validation Accuracy')\n",
        "plt.show()"
      ]
    },
    {
      "cell_type": "markdown",
      "metadata": {
        "id": "FQyFOOa_SUZB"
      },
      "source": [
        "### Train a Network With Cifar-10 Data\n",
        "Now we may use the cifar-10 dataset to train our model. First, we will load the cifar-10 dataset."
      ]
    },
    {
      "cell_type": "code",
      "execution_count": 15,
      "metadata": {
        "id": "fID7AMV0TZUO",
        "colab": {
          "base_uri": "https://localhost:8080/",
          "height": 0
        },
        "outputId": "7f107c1c-b877-48b7-ac0d-3615e4b99811"
      },
      "outputs": [
        {
          "output_type": "stream",
          "name": "stdout",
          "text": [
            "Train data shape:  (49000, 3072)\n",
            "Train labels shape:  (49000,)\n",
            "Validation data shape:  (1000, 3072)\n",
            "Validation labels shape:  (1000,)\n",
            "Test data shape:  (1000, 3072)\n",
            "Test labels shape:  (1000,)\n"
          ]
        }
      ],
      "source": [
        "from data_utils import load_CIFAR10\n",
        "\n",
        "def get_CIFAR10_data(num_training=49000, num_validation=1000, num_test=1000):\n",
        "    \"\"\"\n",
        "    Load the CIFAR-10 dataset from disk and perform preprocessing to prepare\n",
        "    it for the two-layer neural net classifier.\n",
        "    \"\"\"\n",
        "    # Load the raw CIFAR-10 data\n",
        "    cifar10_dir = './datasets/'\n",
        "\n",
        "    X_train, y_train, X_test, y_test = load_CIFAR10(cifar10_dir)\n",
        "\n",
        "    # Subsample the data\n",
        "    mask = list(range(num_training, num_training + num_validation))\n",
        "    X_val = X_train[mask]\n",
        "    y_val = y_train[mask]\n",
        "    mask = list(range(num_training))\n",
        "    X_train = X_train[mask]\n",
        "    y_train = y_train[mask]\n",
        "    mask = list(range(num_test))\n",
        "    X_test = X_test[mask]\n",
        "    y_test = y_test[mask]\n",
        "\n",
        "    # Normalize the data: subtract the mean image\n",
        "    mean_image = np.mean(X_train, axis=0)\n",
        "    X_train -= mean_image\n",
        "    X_val -= mean_image\n",
        "    X_test -= mean_image\n",
        "\n",
        "    # Reshape data to rows\n",
        "    X_train = X_train.reshape(num_training, -1)\n",
        "    X_val = X_val.reshape(num_validation, -1)\n",
        "    X_test = X_test.reshape(num_test, -1)\n",
        "\n",
        "    return X_train, y_train, X_val, y_val, X_test, y_test\n",
        "\n",
        "\n",
        "# Cleaning up variables to prevent loading data multiple times (which may cause memory issue)\n",
        "try:\n",
        "   del X_train, y_train\n",
        "   del X_test, y_test\n",
        "   print('Clear previously loaded data.')\n",
        "except:\n",
        "   pass\n",
        "\n",
        "# Invoke the above function to get our data.\n",
        "train_X, train_Y, validation_X, validation_Y, test_X, test_Y = get_CIFAR10_data()\n",
        "print('Train data shape: ', train_X.shape)\n",
        "print('Train labels shape: ', train_Y.shape)\n",
        "print('Validation data shape: ', validation_X.shape)\n",
        "print('Validation labels shape: ', validation_Y.shape)\n",
        "print('Test data shape: ', test_X.shape)\n",
        "print('Test labels shape: ', test_Y.shape)"
      ]
    },
    {
      "cell_type": "markdown",
      "metadata": {
        "id": "9mJ6CTNDTbXq"
      },
      "source": [
        "Since Cifar-10 has a larger size of data, which is harder to train, we need to increase our network parameters to solve this task.\n"
      ]
    },
    {
      "cell_type": "code",
      "execution_count": 16,
      "metadata": {
        "id": "qTmBf_03TD2J"
      },
      "outputs": [],
      "source": [
        "input_size = 32 * 32 * 3\n",
        "hidden_size = 50\n",
        "num_classes = 10\n",
        "\n",
        "model = bmodel(input_size, hidden_size, num_classes)"
      ]
    },
    {
      "cell_type": "markdown",
      "metadata": {
        "id": "kUvAVk2dULUx"
      },
      "source": [
        "Use the same chunk above to organize our new data. Now we may need a bigger batch_size for training."
      ]
    },
    {
      "cell_type": "code",
      "execution_count": 17,
      "metadata": {
        "id": "uz8yZR95UHq9",
        "colab": {
          "base_uri": "https://localhost:8080/",
          "height": 0
        },
        "outputId": "8a2da92a-2864-445c-fc50-692037c5d5cf"
      },
      "outputs": [
        {
          "output_type": "stream",
          "name": "stderr",
          "text": [
            "/usr/local/lib/python3.10/dist-packages/torch/utils/data/dataloader.py:557: UserWarning: This DataLoader will create 10 worker processes in total. Our suggested max number of worker in current system is 2, which is smaller than what this DataLoader is going to create. Please be aware that excessive worker creation might get DataLoader running slow or even freeze, lower the worker number to avoid potential slowness/freeze if necessary.\n",
            "  warnings.warn(_create_warning_msg(\n"
          ]
        },
        {
          "output_type": "execute_result",
          "data": {
            "text/plain": [
              "(torch.Size([16, 3072]), torch.Size([16]))"
            ]
          },
          "metadata": {},
          "execution_count": 17
        }
      ],
      "source": [
        "# Datasets from folders\n",
        "batch_size = 16\n",
        "# Transfer the data from numpy to tensor\n",
        "data = {\n",
        "    'train':\n",
        "    TensorDataset(torch.from_numpy(train_X), torch.from_numpy(train_Y).float()),\n",
        "    'valid':\n",
        "    ######################\n",
        "    ### YOUR CODE HERE ###\n",
        "    ######################\n",
        "\n",
        "    TensorDataset(torch.from_numpy(validation_X), torch.from_numpy(validation_Y).float()),\n",
        "\n",
        "    #####################\n",
        "    ### YOUR CODE END ###\n",
        "    #####################\n",
        "\n",
        "}\n",
        "\n",
        "\n",
        "# Dataloader iterators, make sure to shuffle\n",
        "dataloaders = {\n",
        "    'train': DataLoader(data['train'], batch_size=batch_size, shuffle=True,num_workers=10),\n",
        "    'valid':\n",
        "    ######################\n",
        "    ### YOUR CODE HERE ###\n",
        "    ######################\n",
        "\n",
        "    DataLoader(data['valid'], batch_size=batch_size, shuffle=False, num_workers=10),\n",
        "\n",
        "    ######################\n",
        "    ### YOUR CODE END ###\n",
        "    ######################\n",
        "}\n",
        "\n",
        "\n",
        "# Iterate through the dataloader once\n",
        "trainiter = iter(dataloaders['train'])\n",
        "features, labels = next(trainiter)\n",
        "features.shape, labels.shape"
      ]
    },
    {
      "cell_type": "markdown",
      "metadata": {
        "id": "LVBJq6SCYAV5"
      },
      "source": [
        "Set up our criterion and optimizer for the new model."
      ]
    },
    {
      "cell_type": "code",
      "execution_count": 18,
      "metadata": {
        "id": "pTpFzjGxX8cP"
      },
      "outputs": [],
      "source": [
        "# Set up your criterion and optimizer\n",
        "######################\n",
        "### YOUR CODE HERE ###\n",
        "######################\n",
        "\n",
        "# Set up the criterion (loss function)\n",
        "criterion = nn.CrossEntropyLoss()\n",
        "\n",
        "# Set up the optimizer\n",
        "optimizer = optim.Adam(toy_model.parameters(), lr=0.001)  # You can adjust the learning rate as needed\n",
        "\n",
        "#####################\n",
        "### YOUR CODE END ###\n",
        "#####################"
      ]
    },
    {
      "cell_type": "markdown",
      "metadata": {
        "id": "QfOM_4BkUiio"
      },
      "source": [
        "Train your new network and get the results. At this time, the training process may need more time."
      ]
    },
    {
      "cell_type": "code",
      "execution_count": 19,
      "metadata": {
        "id": "feL2jumrUhRJ",
        "colab": {
          "base_uri": "https://localhost:8080/",
          "height": 0
        },
        "outputId": "4e71908f-65c5-43e0-9378-3fee714aeee1"
      },
      "outputs": [
        {
          "output_type": "stream",
          "name": "stdout",
          "text": [
            "Starting Training from Scratch.\n",
            "\n",
            "\n",
            "Epoch: 0 \tTraining Loss: 29.5826 \tValidation Loss: 20.7462\n",
            "\t\tTraining Accuracy: 9.85%\t Validation Accuracy: 9.90%\n",
            "\n",
            "Epoch: 1 \tTraining Loss: 29.5699 \tValidation Loss: 20.7462\n",
            "\t\tTraining Accuracy: 9.95%\t Validation Accuracy: 9.90%\n",
            "\n",
            "Epoch: 2 \tTraining Loss: 29.6768 \tValidation Loss: 20.7462\n",
            "\t\tTraining Accuracy: 9.93%\t Validation Accuracy: 9.90%\n",
            "\n",
            "Epoch: 3 \tTraining Loss: 29.4677 \tValidation Loss: 20.7462\n",
            "\t\tTraining Accuracy: 10.07%\t Validation Accuracy: 9.90%\n",
            "\n",
            "Early Stopping! Total epochs: 3. Best epoch: 0 with loss: 20.75 and acc: 9.90%\n",
            "56.25 total seconds elapsed. 14.06 seconds per epoch.\n"
          ]
        }
      ],
      "source": [
        "from timeit import default_timer as timer\n",
        "save_file_name = f'cifar_model_best_model.pt'\n",
        "train_on_gpu = cuda.is_available()\n",
        "\n",
        "model, history = train(model,\n",
        "    criterion,\n",
        "    optimizer,\n",
        "    dataloaders['train'],\n",
        "    dataloaders['valid'],\n",
        "    save_file_name=save_file_name,\n",
        "    max_epochs_stop=3,\n",
        "    n_epochs=500,\n",
        "    print_every=1)"
      ]
    },
    {
      "cell_type": "markdown",
      "metadata": {
        "id": "jeZ2CzV6YN-2"
      },
      "source": [
        "It seems that the process will end very early since there is no progress during the training. Let's print the results."
      ]
    },
    {
      "cell_type": "code",
      "execution_count": 20,
      "metadata": {
        "id": "xlzAjeIDUohp",
        "colab": {
          "base_uri": "https://localhost:8080/",
          "height": 689
        },
        "outputId": "cd203fb4-e5c7-4624-ce67-ef5a92a9146a"
      },
      "outputs": [
        {
          "output_type": "execute_result",
          "data": {
            "text/plain": [
              "<Figure size 800x600 with 0 Axes>"
            ]
          },
          "metadata": {},
          "execution_count": 20
        },
        {
          "output_type": "execute_result",
          "data": {
            "text/plain": [
              "[<matplotlib.lines.Line2D at 0x79b82e14d7b0>]"
            ]
          },
          "metadata": {},
          "execution_count": 20
        },
        {
          "output_type": "execute_result",
          "data": {
            "text/plain": [
              "[<matplotlib.lines.Line2D at 0x79b82e14dc60>]"
            ]
          },
          "metadata": {},
          "execution_count": 20
        },
        {
          "output_type": "execute_result",
          "data": {
            "text/plain": [
              "<matplotlib.legend.Legend at 0x79b82e13f310>"
            ]
          },
          "metadata": {},
          "execution_count": 20
        },
        {
          "output_type": "execute_result",
          "data": {
            "text/plain": [
              "Text(0.5, 0, 'Epoch')"
            ]
          },
          "metadata": {},
          "execution_count": 20
        },
        {
          "output_type": "execute_result",
          "data": {
            "text/plain": [
              "Text(0, 0.5, 'Average Negative Log Likelihood')"
            ]
          },
          "metadata": {},
          "execution_count": 20
        },
        {
          "output_type": "execute_result",
          "data": {
            "text/plain": [
              "Text(0.5, 1.0, 'Training and Validation Losses')"
            ]
          },
          "metadata": {},
          "execution_count": 20
        },
        {
          "output_type": "display_data",
          "data": {
            "text/plain": [
              "<Figure size 800x600 with 1 Axes>"
            ],
            "image/png": "[encoded data removed]"
          },
          "metadata": {}
        }
      ],
      "source": [
        "plt.figure(figsize=(8, 6))\n",
        "for c in ['train_loss', 'valid_loss']:\n",
        "    plt.plot(\n",
        "        history[c], label=c)\n",
        "plt.legend()\n",
        "plt.xlabel('Epoch')\n",
        "plt.ylabel('Average Negative Log Likelihood')\n",
        "plt.title('Training and Validation Losses')\n",
        "plt.show()"
      ]
    },
    {
      "cell_type": "code",
      "execution_count": 21,
      "metadata": {
        "id": "nwjRiBhWUsdy",
        "colab": {
          "base_uri": "https://localhost:8080/",
          "height": 689
        },
        "outputId": "67113186-4ad1-4b4f-a240-fda7a1a8d744"
      },
      "outputs": [
        {
          "output_type": "execute_result",
          "data": {
            "text/plain": [
              "<Figure size 800x600 with 0 Axes>"
            ]
          },
          "metadata": {},
          "execution_count": 21
        },
        {
          "output_type": "execute_result",
          "data": {
            "text/plain": [
              "[<matplotlib.lines.Line2D at 0x79b95e900550>]"
            ]
          },
          "metadata": {},
          "execution_count": 21
        },
        {
          "output_type": "execute_result",
          "data": {
            "text/plain": [
              "[<matplotlib.lines.Line2D at 0x79b95e9009d0>]"
            ]
          },
          "metadata": {},
          "execution_count": 21
        },
        {
          "output_type": "execute_result",
          "data": {
            "text/plain": [
              "<matplotlib.legend.Legend at 0x79b82e1193f0>"
            ]
          },
          "metadata": {},
          "execution_count": 21
        },
        {
          "output_type": "execute_result",
          "data": {
            "text/plain": [
              "Text(0.5, 0, 'Epoch')"
            ]
          },
          "metadata": {},
          "execution_count": 21
        },
        {
          "output_type": "execute_result",
          "data": {
            "text/plain": [
              "Text(0, 0.5, 'Average Accuracy')"
            ]
          },
          "metadata": {},
          "execution_count": 21
        },
        {
          "output_type": "execute_result",
          "data": {
            "text/plain": [
              "Text(0.5, 1.0, 'Training and Validation Accuracy')"
            ]
          },
          "metadata": {},
          "execution_count": 21
        },
        {
          "output_type": "display_data",
          "data": {
            "text/plain": [
              "<Figure size 800x600 with 1 Axes>"
            ],
            "image/png": "[encoded data removed]"
          },
          "metadata": {}
        }
      ],
      "source": [
        "plt.figure(figsize=(8, 6))\n",
        "for c in ['train_acc', 'valid_acc']:\n",
        "    plt.plot(\n",
        "        100 * history[c], label=c)\n",
        "plt.legend()\n",
        "plt.xlabel('Epoch')\n",
        "plt.ylabel('Average Accuracy')\n",
        "plt.title('Training and Validation Accuracy')\n",
        "plt.show()"
      ]
    },
    {
      "cell_type": "markdown",
      "metadata": {
        "id": "fhsY7oawmNWu"
      },
      "source": [
        "##Task 4: Improve The Performance\n",
        "As we have known in HW2, a two-layer-network can not get a good performance. Here, we may (1) add more layers to make the network deeper, or (2) replace your bmodel() with networks provided by PyTorch. https://pytorch.org/vision/0.8/models.html\n",
        "You just need to do one of these two options.\n",
        "\n",
        "You can reuse the code you have from Task 2 and 3"
      ]
    },
    {
      "cell_type": "markdown",
      "metadata": {
        "id": "aGDEU18AabZY"
      },
      "source": [
        "**Describe modification:** My DenseNet incorporates batch normalization and dropout to combat overfitting and ensure efficient learning. It consists of a sequence of fully connected layers that process flattened image data, with each layer followed by batch normalization to maintain stability and dropout to encourage generalization. This setup helps accelerate training and enhances the model's ability to generalize across diverse datasets like CIFAR-10."
      ]
    },
    {
      "cell_type": "code",
      "execution_count": 22,
      "metadata": {
        "id": "g19ITExFgI1q",
        "colab": {
          "base_uri": "https://localhost:8080/",
          "height": 0
        },
        "outputId": "0905115b-1290-4c09-94e0-9536ea1e5335"
      },
      "outputs": [
        {
          "output_type": "stream",
          "name": "stdout",
          "text": [
            "Reduced train data shape:  (49000, 216)\n",
            "Reduced validation data shape:  (1000, 216)\n",
            "Reduced test data shape:  (1000, 216)\n"
          ]
        }
      ],
      "source": [
        "from sklearn.decomposition import PCA\n",
        "\n",
        "# Function to apply PCA on the dataset\n",
        "def apply_pca(X_train, X_val, X_test, n_components=0.95):\n",
        "    \"\"\"\n",
        "    Apply PCA to the dataset to reduce dimensionality while retaining 95% of the variance.\n",
        "\n",
        "    Parameters:\n",
        "    - X_train: Training data\n",
        "    - X_val: Validation data\n",
        "    - X_test: Test data\n",
        "    - n_components: Number of components to keep. If 0 < n_components < 1, select the number\n",
        "                    of components such that the amount of variance that needs to be explained\n",
        "                    is greater than the percentage specified by n_components.\n",
        "\n",
        "    Returns:\n",
        "    - X_train_pca: PCA-reduced training data\n",
        "    - X_val_pca: PCA-reduced validation data\n",
        "    - X_test_pca: PCA-reduced test data\n",
        "    - pca: PCA model used for transformation\n",
        "    \"\"\"\n",
        "    # Initialize PCA\n",
        "    pca = PCA(n_components=n_components)\n",
        "\n",
        "    # Fit PCA on the training data\n",
        "    pca.fit(X_train)\n",
        "\n",
        "    # Transform training, validation, and test data\n",
        "    X_train_pca = pca.transform(X_train)\n",
        "    X_val_pca = pca.transform(X_val)\n",
        "    X_test_pca = pca.transform(X_test)\n",
        "\n",
        "    return X_train_pca, X_val_pca, X_test_pca, pca\n",
        "\n",
        "# Apply PCA\n",
        "n_components = 0.95  # You can adjust this to keep a different amount of variance\n",
        "train_X_pca, validation_X_pca, test_X_pca, pca_model = apply_pca(train_X, validation_X, test_X, n_components=n_components)\n",
        "\n",
        "print('Reduced train data shape: ', train_X_pca.shape)\n",
        "print('Reduced validation data shape: ', validation_X_pca.shape)\n",
        "print('Reduced test data shape: ', test_X_pca.shape)"
      ]
    },
    {
      "cell_type": "code",
      "execution_count": 23,
      "metadata": {
        "id": "Ge8eupeY9ZLN",
        "colab": {
          "base_uri": "https://localhost:8080/",
          "height": 0
        },
        "outputId": "6ef457a8-22d2-448c-9622-6acad71b972a"
      },
      "outputs": [
        {
          "output_type": "execute_result",
          "data": {
            "text/plain": [
              "(torch.Size([16, 216]), torch.Size([16]))"
            ]
          },
          "metadata": {},
          "execution_count": 23
        }
      ],
      "source": [
        "# Datasets from folders\n",
        "batch_size_pca = 16\n",
        "# Transfer the data from numpy to tensor\n",
        "data_pca = {\n",
        "    'train':\n",
        "    TensorDataset(torch.from_numpy(train_X_pca), torch.from_numpy(train_Y).float()),\n",
        "    'valid':\n",
        "    TensorDataset(torch.from_numpy(validation_X_pca), torch.from_numpy(validation_Y).float()),\n",
        "}\n",
        "\n",
        "\n",
        "# Dataloader iterators, make sure to shuffle\n",
        "dataloaders_pca = {\n",
        "    'train': DataLoader(data_pca['train'], batch_size=batch_size_pca, shuffle=True,num_workers=2),\n",
        "    'valid':\n",
        "    DataLoader(data_pca['valid'], batch_size=batch_size_pca, shuffle=False, num_workers=2),\n",
        "}\n",
        "\n",
        "\n",
        "# Iterate through the dataloader once\n",
        "trainiter = iter(dataloaders_pca['train'])\n",
        "features, labels = next(trainiter)\n",
        "features.shape, labels.shape"
      ]
    },
    {
      "cell_type": "code",
      "execution_count": 24,
      "metadata": {
        "id": "1JZnAbKGNNqJ",
        "colab": {
          "base_uri": "https://localhost:8080/",
          "height": 0
        },
        "outputId": "51ed888d-de98-48b3-817c-6e83dc30729d"
      },
      "outputs": [
        {
          "output_type": "execute_result",
          "data": {
            "text/plain": [
              "deepModel(\n",
              "  (fc1): Linear(in_features=216, out_features=512, bias=True)\n",
              "  (bn1): BatchNorm1d(512, eps=1e-05, momentum=0.1, affine=True, track_running_stats=True)\n",
              "  (drop1): Dropout(p=0.5, inplace=False)\n",
              "  (fc2): Linear(in_features=512, out_features=256, bias=True)\n",
              "  (bn2): BatchNorm1d(256, eps=1e-05, momentum=0.1, affine=True, track_running_stats=True)\n",
              "  (drop2): Dropout(p=0.5, inplace=False)\n",
              "  (fc3): Linear(in_features=256, out_features=128, bias=True)\n",
              "  (bn3): BatchNorm1d(128, eps=1e-05, momentum=0.1, affine=True, track_running_stats=True)\n",
              "  (drop3): Dropout(p=0.5, inplace=False)\n",
              "  (fc4): Linear(in_features=128, out_features=10, bias=True)\n",
              ")"
            ]
          },
          "metadata": {},
          "execution_count": 24
        },
        {
          "output_type": "stream",
          "name": "stdout",
          "text": [
            "deepModel(\n",
            "  (fc1): Linear(in_features=216, out_features=512, bias=True)\n",
            "  (bn1): BatchNorm1d(512, eps=1e-05, momentum=0.1, affine=True, track_running_stats=True)\n",
            "  (drop1): Dropout(p=0.5, inplace=False)\n",
            "  (fc2): Linear(in_features=512, out_features=256, bias=True)\n",
            "  (bn2): BatchNorm1d(256, eps=1e-05, momentum=0.1, affine=True, track_running_stats=True)\n",
            "  (drop2): Dropout(p=0.5, inplace=False)\n",
            "  (fc3): Linear(in_features=256, out_features=128, bias=True)\n",
            "  (bn3): BatchNorm1d(128, eps=1e-05, momentum=0.1, affine=True, track_running_stats=True)\n",
            "  (drop3): Dropout(p=0.5, inplace=False)\n",
            "  (fc4): Linear(in_features=128, out_features=10, bias=True)\n",
            ")\n"
          ]
        }
      ],
      "source": [
        "from torch.nn import BatchNorm1d, Dropout\n",
        "\n",
        "class deepModel(nn.Module):\n",
        "    def __init__(self):\n",
        "        super(deepModel, self).__init__()\n",
        "        self.fc1 = nn.Linear(train_X_pca.shape[1], 512)\n",
        "        self.bn1 = BatchNorm1d(512)\n",
        "        self.drop1 = Dropout(0.5)\n",
        "\n",
        "        self.fc2 = nn.Linear(512, 256)\n",
        "        self.bn2 = BatchNorm1d(256)\n",
        "        self.drop2 = Dropout(0.5)\n",
        "\n",
        "        self.fc3 = nn.Linear(256, 128)\n",
        "        self.bn3 = BatchNorm1d(128)\n",
        "        self.drop3 = Dropout(0.5)\n",
        "\n",
        "        self.fc4 = nn.Linear(128, num_classes)\n",
        "\n",
        "    def forward(self, x):\n",
        "        x = F.relu(self.bn1(self.fc1(x)))\n",
        "        x = self.drop1(x)\n",
        "        x = F.relu(self.bn2(self.fc2(x)))\n",
        "        x = self.drop2(x)\n",
        "        x = F.relu(self.bn3(self.fc3(x)))\n",
        "        x = self.drop3(x)\n",
        "        x = self.fc4(x)\n",
        "        return x\n",
        "\n",
        "model = deepModel()\n",
        "if torch.cuda.is_available():\n",
        "    model.cuda()\n",
        "\n",
        "print(model)"
      ]
    },
    {
      "cell_type": "code",
      "execution_count": 25,
      "metadata": {
        "id": "I2Au3TFgVigZ",
        "colab": {
          "base_uri": "https://localhost:8080/",
          "height": 0
        },
        "outputId": "5606b31a-bc34-415b-dac8-0e1ed8e3caaf"
      },
      "outputs": [
        {
          "output_type": "stream",
          "name": "stdout",
          "text": [
            "Starting Training from Scratch.\n",
            "\n",
            "\n",
            "Epoch: 0 \tTraining Loss: 1.8539 \tValidation Loss: 1.5372\n",
            "\t\tTraining Accuracy: 33.40%\t Validation Accuracy: 46.80%\n",
            "\n",
            "Epoch: 1 \tTraining Loss: 1.6999 \tValidation Loss: 1.4307\n",
            "\t\tTraining Accuracy: 39.41%\t Validation Accuracy: 49.70%\n",
            "\n",
            "Epoch: 2 \tTraining Loss: 1.6411 \tValidation Loss: 1.4039\n",
            "\t\tTraining Accuracy: 41.87%\t Validation Accuracy: 49.70%\n",
            "\n",
            "Epoch: 3 \tTraining Loss: 1.5941 \tValidation Loss: 1.3549\n",
            "\t\tTraining Accuracy: 43.63%\t Validation Accuracy: 51.10%\n",
            "\n",
            "Epoch: 4 \tTraining Loss: 1.5651 \tValidation Loss: 1.3173\n",
            "\t\tTraining Accuracy: 44.83%\t Validation Accuracy: 52.00%\n",
            "\n",
            "Epoch: 5 \tTraining Loss: 1.5317 \tValidation Loss: 1.2944\n",
            "\t\tTraining Accuracy: 45.78%\t Validation Accuracy: 52.10%\n",
            "\n",
            "Epoch: 6 \tTraining Loss: 1.5152 \tValidation Loss: 1.2859\n",
            "\t\tTraining Accuracy: 46.60%\t Validation Accuracy: 55.00%\n",
            "\n",
            "Epoch: 7 \tTraining Loss: 1.4914 \tValidation Loss: 1.2684\n",
            "\t\tTraining Accuracy: 47.36%\t Validation Accuracy: 53.30%\n",
            "\n",
            "Epoch: 8 \tTraining Loss: 1.4707 \tValidation Loss: 1.2620\n",
            "\t\tTraining Accuracy: 47.89%\t Validation Accuracy: 54.10%\n",
            "\n",
            "Epoch: 9 \tTraining Loss: 1.4649 \tValidation Loss: 1.2417\n",
            "\t\tTraining Accuracy: 48.23%\t Validation Accuracy: 53.50%\n",
            "\n",
            "Epoch: 10 \tTraining Loss: 1.4500 \tValidation Loss: 1.2581\n",
            "\t\tTraining Accuracy: 48.74%\t Validation Accuracy: 55.30%\n",
            "\n",
            "Epoch: 11 \tTraining Loss: 1.4326 \tValidation Loss: 1.2562\n",
            "\t\tTraining Accuracy: 49.45%\t Validation Accuracy: 55.10%\n",
            "\n",
            "Epoch: 12 \tTraining Loss: 1.4239 \tValidation Loss: 1.2380\n",
            "\t\tTraining Accuracy: 49.81%\t Validation Accuracy: 55.30%\n",
            "\n",
            "Epoch: 13 \tTraining Loss: 1.4131 \tValidation Loss: 1.2153\n",
            "\t\tTraining Accuracy: 50.47%\t Validation Accuracy: 56.40%\n",
            "\n",
            "Epoch: 14 \tTraining Loss: 1.4072 \tValidation Loss: 1.2252\n",
            "\t\tTraining Accuracy: 50.32%\t Validation Accuracy: 54.60%\n",
            "\n",
            "Epoch: 15 \tTraining Loss: 1.3958 \tValidation Loss: 1.2268\n",
            "\t\tTraining Accuracy: 51.04%\t Validation Accuracy: 55.00%\n",
            "\n",
            "Epoch: 16 \tTraining Loss: 1.3899 \tValidation Loss: 1.2388\n",
            "\t\tTraining Accuracy: 51.14%\t Validation Accuracy: 55.20%\n",
            "\n",
            "Early Stopping! Total epochs: 16. Best epoch: 13 with loss: 1.22 and acc: 55.20%\n",
            "286.69 total seconds elapsed. 16.86 seconds per epoch.\n"
          ]
        }
      ],
      "source": [
        "# Define the loss function and optimizer\n",
        "criterion = nn.CrossEntropyLoss()\n",
        "optimizer = optim.Adam(model.parameters(), lr=0.001)\n",
        "\n",
        "# File name to save the model\n",
        "save_file_name = 'simple_cnn_cifar10.pt'\n",
        "\n",
        "# Train the model\n",
        "trained_model, history = train(model=model,\n",
        "                               criterion=criterion,\n",
        "                               optimizer=optimizer,\n",
        "                               train_loader=dataloaders_pca['train'],\n",
        "                               valid_loader=dataloaders_pca['valid'],\n",
        "                               save_file_name=save_file_name,\n",
        "                               max_epochs_stop=3,\n",
        "                               n_epochs=500,  # Feel free to adjust epochs\n",
        "                               print_every=1)\n",
        "\n",
        "# Note: Ensure your DataLoader returns images as FloatTensors and labels as LongTensors"
      ]
    },
    {
      "cell_type": "code",
      "execution_count": 26,
      "metadata": {
        "id": "k0QCzJDTaITH",
        "colab": {
          "base_uri": "https://localhost:8080/",
          "height": 689
        },
        "outputId": "1ebb0b89-7b57-4c24-9d0e-327403ba0a59"
      },
      "outputs": [
        {
          "output_type": "execute_result",
          "data": {
            "text/plain": [
              "<Figure size 800x600 with 0 Axes>"
            ]
          },
          "metadata": {},
          "execution_count": 26
        },
        {
          "output_type": "execute_result",
          "data": {
            "text/plain": [
              "[<matplotlib.lines.Line2D at 0x79b95e5c8a90>]"
            ]
          },
          "metadata": {},
          "execution_count": 26
        },
        {
          "output_type": "execute_result",
          "data": {
            "text/plain": [
              "[<matplotlib.lines.Line2D at 0x79b95e5c8f40>]"
            ]
          },
          "metadata": {},
          "execution_count": 26
        },
        {
          "output_type": "execute_result",
          "data": {
            "text/plain": [
              "<matplotlib.legend.Legend at 0x79b95e53dd20>"
            ]
          },
          "metadata": {},
          "execution_count": 26
        },
        {
          "output_type": "execute_result",
          "data": {
            "text/plain": [
              "Text(0.5, 0, 'Epoch')"
            ]
          },
          "metadata": {},
          "execution_count": 26
        },
        {
          "output_type": "execute_result",
          "data": {
            "text/plain": [
              "Text(0, 0.5, 'Average Negative Log Likelihood')"
            ]
          },
          "metadata": {},
          "execution_count": 26
        },
        {
          "output_type": "execute_result",
          "data": {
            "text/plain": [
              "Text(0.5, 1.0, 'Training and Validation Losses')"
            ]
          },
          "metadata": {},
          "execution_count": 26
        },
        {
          "output_type": "display_data",
          "data": {
            "text/plain": [
              "<Figure size 800x600 with 1 Axes>"
            ],
            "image/png": "[encoded data removed]"
          },
          "metadata": {}
        }
      ],
      "source": [
        "plt.figure(figsize=(8, 6))\n",
        "for c in ['train_loss', 'valid_loss']:\n",
        "    plt.plot(\n",
        "        history[c], label=c)\n",
        "plt.legend()\n",
        "plt.xlabel('Epoch')\n",
        "plt.ylabel('Average Negative Log Likelihood')\n",
        "plt.title('Training and Validation Losses')\n",
        "plt.show()"
      ]
    },
    {
      "cell_type": "code",
      "execution_count": 27,
      "metadata": {
        "id": "eamlD4G7aKJb",
        "colab": {
          "base_uri": "https://localhost:8080/",
          "height": 689
        },
        "outputId": "65b82935-91a4-492e-9cfd-1f93f87d2fff"
      },
      "outputs": [
        {
          "output_type": "execute_result",
          "data": {
            "text/plain": [
              "<Figure size 800x600 with 0 Axes>"
            ]
          },
          "metadata": {},
          "execution_count": 27
        },
        {
          "output_type": "execute_result",
          "data": {
            "text/plain": [
              "[<matplotlib.lines.Line2D at 0x79b95e325db0>]"
            ]
          },
          "metadata": {},
          "execution_count": 27
        },
        {
          "output_type": "execute_result",
          "data": {
            "text/plain": [
              "[<matplotlib.lines.Line2D at 0x79b95e326230>]"
            ]
          },
          "metadata": {},
          "execution_count": 27
        },
        {
          "output_type": "execute_result",
          "data": {
            "text/plain": [
              "<matplotlib.legend.Legend at 0x79b95e53f8b0>"
            ]
          },
          "metadata": {},
          "execution_count": 27
        },
        {
          "output_type": "execute_result",
          "data": {
            "text/plain": [
              "Text(0.5, 0, 'Epoch')"
            ]
          },
          "metadata": {},
          "execution_count": 27
        },
        {
          "output_type": "execute_result",
          "data": {
            "text/plain": [
              "Text(0, 0.5, 'Average Accuracy')"
            ]
          },
          "metadata": {},
          "execution_count": 27
        },
        {
          "output_type": "execute_result",
          "data": {
            "text/plain": [
              "Text(0.5, 1.0, 'Training and Validation Accuracy')"
            ]
          },
          "metadata": {},
          "execution_count": 27
        },
        {
          "output_type": "display_data",
          "data": {
            "text/plain": [
              "<Figure size 800x600 with 1 Axes>"
            ],
            "image/png": "[encoded data removed]"
          },
          "metadata": {}
        }
      ],
      "source": [
        "plt.figure(figsize=(8, 6))\n",
        "for c in ['train_acc', 'valid_acc']:\n",
        "    plt.plot(\n",
        "        100 * history[c], label=c)\n",
        "plt.legend()\n",
        "plt.xlabel('Epoch')\n",
        "plt.ylabel('Average Accuracy')\n",
        "plt.title('Training and Validation Accuracy')\n",
        "plt.show()"
      ]
    },
    {
      "cell_type": "markdown",
      "source": [],
      "metadata": {
        "id": "qXQMGRvKX2Hx"
      }
    },
    {
      "cell_type": "markdown",
      "source": [],
      "metadata": {
        "id": "d1RsxQyHX2F3"
      }
    },
    {
      "cell_type": "markdown",
      "source": [],
      "metadata": {
        "id": "BPd29VvyX2Dr"
      }
    },
    {
      "cell_type": "markdown",
      "source": [],
      "metadata": {
        "id": "tF7RVPNaX2Bb"
      }
    },
    {
      "cell_type": "markdown",
      "source": [],
      "metadata": {
        "id": "Yc6TXjDhX1_V"
      }
    },
    {
      "cell_type": "markdown",
      "source": [],
      "metadata": {
        "id": "eHaPMeqCX18_"
      }
    },
    {
      "cell_type": "markdown",
      "source": [],
      "metadata": {
        "id": "iby_d4-HX16o"
      }
    },
    {
      "cell_type": "markdown",
      "source": [],
      "metadata": {
        "id": "EWXA0xPoX13d"
      }
    },
    {
      "cell_type": "markdown",
      "source": [],
      "metadata": {
        "id": "KFaOLgW9XzE2"
      }
    },
    {
      "cell_type": "markdown",
      "source": [],
      "metadata": {
        "id": "ZAQqY_bQXzCw"
      }
    },
    {
      "cell_type": "markdown",
      "source": [],
      "metadata": {
        "id": "BL11GkCxXzAq"
      }
    },
    {
      "cell_type": "markdown",
      "source": [],
      "metadata": {
        "id": "OovWo5fLXy-u"
      }
    },
    {
      "cell_type": "markdown",
      "source": [],
      "metadata": {
        "id": "vgBVnU5gXy8p"
      }
    },
    {
      "cell_type": "markdown",
      "source": [],
      "metadata": {
        "id": "qTEyrB8AXy6X"
      }
    },
    {
      "cell_type": "markdown",
      "source": [],
      "metadata": {
        "id": "KhkDasfhXy4B"
      }
    },
    {
      "cell_type": "markdown",
      "source": [],
      "metadata": {
        "id": "CVx1KcdyXy12"
      }
    },
    {
      "cell_type": "markdown",
      "source": [],
      "metadata": {
        "id": "DsoJVYl2Xyzl"
      }
    },
    {
      "cell_type": "markdown",
      "source": [],
      "metadata": {
        "id": "TNF5tNFRXyxX"
      }
    },
    {
      "cell_type": "markdown",
      "source": [],
      "metadata": {
        "id": "1uLEmBsMXyu5"
      }
    },
    {
      "cell_type": "markdown",
      "source": [],
      "metadata": {
        "id": "z7twLk0zXysf"
      }
    },
    {
      "cell_type": "markdown",
      "source": [],
      "metadata": {
        "id": "-6I9g8qHXyqJ"
      }
    },
    {
      "cell_type": "markdown",
      "source": [],
      "metadata": {
        "id": "HUiWhfC_Xyn0"
      }
    },
    {
      "cell_type": "markdown",
      "source": [],
      "metadata": {
        "id": "Q8-fGqlhXylR"
      }
    },
    {
      "cell_type": "markdown",
      "source": [],
      "metadata": {
        "id": "NmCWW_ZrXyjL"
      }
    },
    {
      "cell_type": "markdown",
      "source": [],
      "metadata": {
        "id": "aIBoieneXyg1"
      }
    },
    {
      "cell_type": "markdown",
      "source": [],
      "metadata": {
        "id": "7q-6vBzHXyef"
      }
    },
    {
      "cell_type": "markdown",
      "source": [],
      "metadata": {
        "id": "wc40NwsYXyb0"
      }
    },
    {
      "cell_type": "markdown",
      "source": [],
      "metadata": {
        "id": "9TAXqB_tXyY8"
      }
    },
    {
      "cell_type": "markdown",
      "source": [],
      "metadata": {
        "id": "FEYomtnyXwRh"
      }
    },
    {
      "cell_type": "markdown",
      "source": [],
      "metadata": {
        "id": "gqIFw_e9XwPh"
      }
    },
    {
      "cell_type": "markdown",
      "source": [],
      "metadata": {
        "id": "FwsiqKXaXwNX"
      }
    },
    {
      "cell_type": "markdown",
      "source": [],
      "metadata": {
        "id": "foIcRkInXwLB"
      }
    },
    {
      "cell_type": "markdown",
      "source": [],
      "metadata": {
        "id": "bt2_88iqXwI7"
      }
    },
    {
      "cell_type": "markdown",
      "source": [],
      "metadata": {
        "id": "vvQ4q_vcXwGx"
      }
    },
    {
      "cell_type": "markdown",
      "source": [],
      "metadata": {
        "id": "jLiVyvQXXwEj"
      }
    },
    {
      "cell_type": "markdown",
      "source": [],
      "metadata": {
        "id": "PGkDtfpcXwCV"
      }
    },
    {
      "cell_type": "markdown",
      "source": [],
      "metadata": {
        "id": "KO9HS6iYXv__"
      }
    },
    {
      "cell_type": "markdown",
      "source": [],
      "metadata": {
        "id": "mzOi7z5qXv9h"
      }
    },
    {
      "cell_type": "markdown",
      "source": [],
      "metadata": {
        "id": "UbDVLIf0XuCM"
      }
    },
    {
      "cell_type": "markdown",
      "source": [],
      "metadata": {
        "id": "FqE8mW_lXuAF"
      }
    },
    {
      "cell_type": "markdown",
      "source": [],
      "metadata": {
        "id": "dQBDIBlmXt9o"
      }
    },
    {
      "cell_type": "markdown",
      "source": [],
      "metadata": {
        "id": "7zSWuekKXt6q"
      }
    },
    {
      "cell_type": "markdown",
      "source": [],
      "metadata": {
        "id": "GQ13AXGuXt4F"
      }
    },
    {
      "cell_type": "markdown",
      "source": [],
      "metadata": {
        "id": "jquDNCGPXt1n"
      }
    },
    {
      "cell_type": "markdown",
      "source": [],
      "metadata": {
        "id": "AQAS89FeXtzR"
      }
    },
    {
      "cell_type": "markdown",
      "source": [],
      "metadata": {
        "id": "F_FVEi_2Xtwr"
      }
    },
    {
      "cell_type": "markdown",
      "source": [],
      "metadata": {
        "id": "2nd7TIsEXtrP"
      }
    },
    {
      "cell_type": "markdown",
      "metadata": {
        "id": "pIEnCBfiHPze"
      },
      "source": []
    },
    {
      "cell_type": "markdown",
      "metadata": {
        "id": "MRyfYN58HNLh"
      },
      "source": []
    },
    {
      "cell_type": "markdown",
      "metadata": {
        "id": "F0nLCxDLHNJL"
      },
      "source": []
    },
    {
      "cell_type": "markdown",
      "metadata": {
        "id": "iV-cB094HP7y"
      },
      "source": []
    },
    {
      "cell_type": "markdown",
      "metadata": {
        "id": "xqoMfcwmHNG9"
      },
      "source": []
    },
    {
      "cell_type": "markdown",
      "metadata": {
        "id": "9BhyntPZHNEv"
      },
      "source": []
    },
    {
      "cell_type": "markdown",
      "metadata": {
        "id": "SxUrMBXLHNCa"
      },
      "source": []
    },
    {
      "cell_type": "markdown",
      "metadata": {
        "id": "8BF1yEfWHM_z"
      },
      "source": []
    },
    {
      "cell_type": "markdown",
      "metadata": {
        "id": "uvAYYscwHM7K"
      },
      "source": []
    },
    {
      "cell_type": "markdown",
      "metadata": {
        "id": "7rCXHnUyHLW8"
      },
      "source": []
    },
    {
      "cell_type": "markdown",
      "metadata": {
        "id": "jdoM2yQXHLR5"
      },
      "source": []
    },
    {
      "cell_type": "markdown",
      "metadata": {
        "id": "1tuseWOBHLPX"
      },
      "source": []
    },
    {
      "cell_type": "markdown",
      "metadata": {
        "id": "amDR_768HLL2"
      },
      "source": []
    },
    {
      "cell_type": "markdown",
      "metadata": {
        "id": "cyBVnU-GHLFN"
      },
      "source": []
    },
    {
      "cell_type": "markdown",
      "metadata": {
        "id": "gygsAufNGuKo"
      },
      "source": []
    },
    {
      "cell_type": "markdown",
      "metadata": {
        "id": "1Z0CTk7SGuIj"
      },
      "source": []
    },
    {
      "cell_type": "markdown",
      "metadata": {
        "id": "xM5-5Z_CGuFe"
      },
      "source": []
    },
    {
      "cell_type": "markdown",
      "metadata": {
        "id": "-vwX81vOGt7l"
      },
      "source": []
    },
    {
      "cell_type": "markdown",
      "metadata": {
        "id": "P_VjojJxGt5Q"
      },
      "source": []
    },
    {
      "cell_type": "markdown",
      "metadata": {
        "id": "EHiueHNAGnMT"
      },
      "source": [
        "a"
      ]
    },
    {
      "cell_type": "markdown",
      "metadata": {
        "id": "WPZqgdGGGnH-"
      },
      "source": [
        "a"
      ]
    },
    {
      "cell_type": "markdown",
      "metadata": {
        "id": "Fovv9AmSGnDD"
      },
      "source": [
        "a"
      ]
    },
    {
      "cell_type": "markdown",
      "metadata": {
        "id": "xtvcuNnWGm-X"
      },
      "source": [
        "a"
      ]
    },
    {
      "cell_type": "markdown",
      "metadata": {
        "id": "08ihjnJoGm5c"
      },
      "source": [
        "a"
      ]
    },
    {
      "cell_type": "markdown",
      "metadata": {
        "id": "WIQ1hS3LGmzz"
      },
      "source": [
        "a"
      ]
    },
    {
      "cell_type": "markdown",
      "metadata": {
        "id": "iZ-AZspmGmtV"
      },
      "source": [
        "a"
      ]
    },
    {
      "cell_type": "markdown",
      "metadata": {
        "id": "WZMJ7DP8Gmmj"
      },
      "source": [
        "a"
      ]
    },
    {
      "cell_type": "markdown",
      "metadata": {
        "id": "h4zTMeEAGmer"
      },
      "source": [
        "a"
      ]
    },
    {
      "cell_type": "markdown",
      "metadata": {
        "id": "Rv9TW-3EGmWo"
      },
      "source": [
        "a"
      ]
    },
    {
      "cell_type": "markdown",
      "metadata": {
        "id": "dYwTUzXOGivr"
      },
      "source": [
        "a"
      ]
    },
    {
      "cell_type": "markdown",
      "metadata": {
        "id": "D1xQqDggGio-"
      },
      "source": [
        "a"
      ]
    },
    {
      "cell_type": "markdown",
      "metadata": {
        "id": "4Twp1S1WGigu"
      },
      "source": [
        "a"
      ]
    },
    {
      "cell_type": "markdown",
      "metadata": {
        "id": "ZZk6_g_oGiYj"
      },
      "source": [
        "a"
      ]
    },
    {
      "cell_type": "markdown",
      "metadata": {
        "id": "88641d5iGiPs"
      },
      "source": [
        "a"
      ]
    },
    {
      "cell_type": "markdown",
      "metadata": {
        "id": "dRiFhSRoGiGs"
      },
      "source": [
        "a"
      ]
    },
    {
      "cell_type": "markdown",
      "metadata": {
        "id": "JY45-nVIGh8o"
      },
      "source": [
        "a"
      ]
    },
    {
      "cell_type": "markdown",
      "metadata": {
        "id": "aBXjDoB1Ghl0"
      },
      "source": [
        "a"
      ]
    },
    {
      "cell_type": "markdown",
      "metadata": {
        "id": "8t75w0JNGfG3"
      },
      "source": [
        "a"
      ]
    },
    {
      "cell_type": "markdown",
      "metadata": {
        "id": "poAzNpzlGe8_"
      },
      "source": [
        "a"
      ]
    },
    {
      "cell_type": "markdown",
      "metadata": {
        "id": "w1lwyjTsGezc"
      },
      "source": [
        "a"
      ]
    },
    {
      "cell_type": "markdown",
      "metadata": {
        "id": "v-bg0BRhGefm"
      },
      "source": [
        "a"
      ]
    },
    {
      "cell_type": "markdown",
      "metadata": {
        "id": "nRyINxI8bo2a"
      },
      "source": [
        "a"
      ]
    },
    {
      "cell_type": "markdown",
      "metadata": {
        "id": "xOyU5ON3bpGo"
      },
      "source": [
        "a"
      ]
    },
    {
      "cell_type": "markdown",
      "metadata": {
        "id": "f4XErx1cbpVo"
      },
      "source": [
        "a"
      ]
    },
    {
      "cell_type": "markdown",
      "metadata": {
        "id": "5pKGYuo1bpgg"
      },
      "source": [
        "a"
      ]
    },
    {
      "cell_type": "markdown",
      "metadata": {
        "id": "Fq4Uo3Z7bpsv"
      },
      "source": [
        "a"
      ]
    },
    {
      "cell_type": "markdown",
      "metadata": {
        "id": "sBUC5Ea4bp3O"
      },
      "source": [
        "a"
      ]
    },
    {
      "cell_type": "markdown",
      "metadata": {
        "id": "IMPWm4PMbri8"
      },
      "source": [
        "a"
      ]
    },
    {
      "cell_type": "markdown",
      "metadata": {
        "id": "3dfP9g7Rbr2D"
      },
      "source": [
        "a"
      ]
    },
    {
      "cell_type": "markdown",
      "metadata": {
        "id": "0_J5MKQebsHu"
      },
      "source": [
        "a"
      ]
    },
    {
      "cell_type": "markdown",
      "metadata": {
        "id": "XfBCQ7M4bsUK"
      },
      "source": [
        "a"
      ]
    },
    {
      "cell_type": "markdown",
      "metadata": {
        "id": "o530DU9Tbsha"
      },
      "source": [
        "a"
      ]
    },
    {
      "cell_type": "markdown",
      "metadata": {
        "id": "Oz5FkdjmbsrO"
      },
      "source": [
        "a"
      ]
    },
    {
      "cell_type": "markdown",
      "metadata": {
        "id": "vGPTaYS-bs2R"
      },
      "source": [
        "a"
      ]
    },
    {
      "cell_type": "markdown",
      "metadata": {
        "id": "5E5rO9HdbtHx"
      },
      "source": [
        "a"
      ]
    },
    {
      "cell_type": "markdown",
      "metadata": {
        "id": "9exduz4WbtRf"
      },
      "source": [
        "a"
      ]
    },
    {
      "cell_type": "markdown",
      "metadata": {
        "id": "lBygGxajbtgK"
      },
      "source": [
        "a"
      ]
    },
    {
      "cell_type": "markdown",
      "metadata": {
        "id": "0gVSqU8ybt2X"
      },
      "source": [
        "a"
      ]
    },
    {
      "cell_type": "markdown",
      "metadata": {
        "id": "ZsHeHCA3buQA"
      },
      "source": [
        "a"
      ]
    },
    {
      "cell_type": "markdown",
      "metadata": {
        "id": "079Gno6Dbuis"
      },
      "source": [
        "a"
      ]
    },
    {
      "cell_type": "markdown",
      "metadata": {
        "id": "3zZCKSTMbu1h"
      },
      "source": [
        "a"
      ]
    },
    {
      "cell_type": "markdown",
      "metadata": {
        "id": "7SfZaIljbyQ5"
      },
      "source": [
        "a"
      ]
    },
    {
      "cell_type": "markdown",
      "metadata": {
        "id": "vhSB3g7Zbyax"
      },
      "source": [
        "a"
      ]
    },
    {
      "cell_type": "markdown",
      "metadata": {
        "id": "JDFVaC8GbynZ"
      },
      "source": [
        "a"
      ]
    },
    {
      "cell_type": "markdown",
      "metadata": {
        "id": "c8du137Uby3C"
      },
      "source": [
        "a"
      ]
    },
    {
      "cell_type": "markdown",
      "metadata": {
        "id": "BqnIPTfZb0yr"
      },
      "source": [
        "a"
      ]
    },
    {
      "cell_type": "markdown",
      "metadata": {
        "id": "vIAxeI5lb09V"
      },
      "source": [
        "a"
      ]
    },
    {
      "cell_type": "markdown",
      "metadata": {
        "id": "FTavn4T1b1RZ"
      },
      "source": [
        "a"
      ]
    },
    {
      "cell_type": "markdown",
      "metadata": {
        "id": "ECWRBMYOb1Zr"
      },
      "source": [
        "a"
      ]
    },
    {
      "cell_type": "markdown",
      "metadata": {
        "id": "I3SY57hkb1ow"
      },
      "source": [
        "a"
      ]
    },
    {
      "cell_type": "markdown",
      "metadata": {
        "id": "cPpumCCkb15k"
      },
      "source": [
        "a"
      ]
    },
    {
      "cell_type": "markdown",
      "metadata": {
        "id": "idkpLFq5b2E8"
      },
      "source": [
        "a"
      ]
    },
    {
      "cell_type": "markdown",
      "metadata": {
        "id": "iHFtj_uXb2T-"
      },
      "source": [
        "a"
      ]
    },
    {
      "cell_type": "markdown",
      "metadata": {
        "id": "u76qHGRCb2nj"
      },
      "source": [
        "a"
      ]
    },
    {
      "cell_type": "markdown",
      "metadata": {
        "id": "h4e54Uc6b4ez"
      },
      "source": [
        "a"
      ]
    },
    {
      "cell_type": "markdown",
      "metadata": {
        "id": "WgmBeVKqb41w"
      },
      "source": [
        "a"
      ]
    },
    {
      "cell_type": "markdown",
      "metadata": {
        "id": "e4WRy-3yb4_w"
      },
      "source": [
        "a"
      ]
    },
    {
      "cell_type": "markdown",
      "metadata": {
        "id": "fxrGfqaAb5Lf"
      },
      "source": [
        "a"
      ]
    },
    {
      "cell_type": "markdown",
      "metadata": {
        "id": "XCMM53RJb5WF"
      },
      "source": [
        "a"
      ]
    },
    {
      "cell_type": "markdown",
      "metadata": {
        "id": "qkX6UZe0b5pa"
      },
      "source": [
        "a"
      ]
    },
    {
      "cell_type": "markdown",
      "metadata": {
        "id": "-lARKELDb50p"
      },
      "source": [
        "a"
      ]
    },
    {
      "cell_type": "markdown",
      "metadata": {
        "id": "2Mxz_n3Gb5-Z"
      },
      "source": [
        "a"
      ]
    },
    {
      "cell_type": "markdown",
      "metadata": {
        "id": "U6PFa0LIb6j6"
      },
      "source": [
        "a"
      ]
    },
    {
      "cell_type": "markdown",
      "metadata": {
        "id": "cmJ9KFa3b6s_"
      },
      "source": [
        "a"
      ]
    },
    {
      "cell_type": "markdown",
      "metadata": {
        "id": "Ru-FhhXtb8ER"
      },
      "source": [
        "a"
      ]
    },
    {
      "cell_type": "markdown",
      "metadata": {
        "id": "MAc-TLqEb8OQ"
      },
      "source": [
        "a"
      ]
    },
    {
      "cell_type": "markdown",
      "metadata": {
        "id": "u_FoHwh_b99C"
      },
      "source": [
        "a"
      ]
    },
    {
      "cell_type": "markdown",
      "metadata": {
        "id": "CoqCUhfFb-G3"
      },
      "source": [
        "a"
      ]
    },
    {
      "cell_type": "markdown",
      "metadata": {
        "id": "N7Lf5MH1b-PL"
      },
      "source": [
        "a"
      ]
    },
    {
      "cell_type": "markdown",
      "metadata": {
        "id": "S4-etPLLb-eH"
      },
      "source": [
        "a"
      ]
    },
    {
      "cell_type": "markdown",
      "metadata": {
        "id": "_coiczQib-oA"
      },
      "source": [
        "a"
      ]
    },
    {
      "cell_type": "markdown",
      "metadata": {
        "id": "4o293pp0b-_s"
      },
      "source": [
        "a"
      ]
    },
    {
      "cell_type": "markdown",
      "metadata": {
        "id": "eN0D8Z63b_JW"
      },
      "source": [
        "a"
      ]
    },
    {
      "cell_type": "markdown",
      "metadata": {
        "id": "0wf4qbiTb_Xj"
      },
      "source": [
        "a"
      ]
    },
    {
      "cell_type": "markdown",
      "metadata": {
        "id": "ep0g7sDcb_fp"
      },
      "source": [
        "a"
      ]
    },
    {
      "cell_type": "markdown",
      "metadata": {
        "id": "InAhCSm2b_oK"
      },
      "source": [
        "a"
      ]
    },
    {
      "cell_type": "markdown",
      "metadata": {
        "id": "-xuFB4eGb_w9"
      },
      "source": [
        "a"
      ]
    },
    {
      "cell_type": "markdown",
      "metadata": {
        "id": "_nnXxjIob_63"
      },
      "source": [
        "a"
      ]
    },
    {
      "cell_type": "markdown",
      "metadata": {
        "id": "AIp4j_dYcAMi"
      },
      "source": [
        "a"
      ]
    },
    {
      "cell_type": "markdown",
      "metadata": {
        "id": "u6U9JhN5cAXe"
      },
      "source": [
        "a"
      ]
    },
    {
      "cell_type": "markdown",
      "metadata": {
        "id": "B2yZhpBwcAmR"
      },
      "source": [
        "a"
      ]
    },
    {
      "cell_type": "markdown",
      "metadata": {
        "id": "EV44TraxcAvf"
      },
      "source": [
        "a"
      ]
    },
    {
      "cell_type": "markdown",
      "metadata": {
        "id": "HgpQqMNQcBCz"
      },
      "source": [
        "a"
      ]
    },
    {
      "cell_type": "markdown",
      "metadata": {
        "id": "x4KNKkBacBKf"
      },
      "source": [
        "a"
      ]
    },
    {
      "cell_type": "markdown",
      "metadata": {
        "id": "OmSN8ZMkcBUQ"
      },
      "source": [
        "a"
      ]
    },
    {
      "cell_type": "markdown",
      "metadata": {
        "id": "2W3GS_oEcDdg"
      },
      "source": [
        "a"
      ]
    },
    {
      "cell_type": "markdown",
      "metadata": {
        "id": "PdjEDMzQcDmY"
      },
      "source": [
        "a"
      ]
    },
    {
      "cell_type": "markdown",
      "metadata": {
        "id": "xHFkzXvEcDud"
      },
      "source": [
        "a"
      ]
    },
    {
      "cell_type": "markdown",
      "metadata": {
        "id": "aT_r0t0DcD8t"
      },
      "source": [
        "aa"
      ]
    },
    {
      "cell_type": "markdown",
      "metadata": {
        "id": "Sm6Ax7fZcExZ"
      },
      "source": [
        "a"
      ]
    },
    {
      "cell_type": "markdown",
      "metadata": {
        "id": "c_vmXntocE5u"
      },
      "source": [
        "a"
      ]
    },
    {
      "cell_type": "markdown",
      "metadata": {
        "id": "9Q7Tp80-cFEG"
      },
      "source": [
        "a"
      ]
    },
    {
      "cell_type": "markdown",
      "metadata": {
        "id": "KzTsG6XwcFN9"
      },
      "source": [
        "a"
      ]
    },
    {
      "cell_type": "markdown",
      "metadata": {
        "id": "87k13Vr8cFf_"
      },
      "source": [
        "a"
      ]
    },
    {
      "cell_type": "markdown",
      "metadata": {
        "id": "fqxp5xjJcFto"
      },
      "source": [
        "a"
      ]
    },
    {
      "cell_type": "markdown",
      "metadata": {
        "id": "_-OwqWj4cF8p"
      },
      "source": [
        "a"
      ]
    },
    {
      "cell_type": "markdown",
      "metadata": {
        "id": "yIXGkb8ecGFZ"
      },
      "source": [
        "a"
      ]
    },
    {
      "cell_type": "markdown",
      "metadata": {
        "id": "rJ3m8PUscGOf"
      },
      "source": [
        "a"
      ]
    },
    {
      "cell_type": "code",
      "execution_count": 27,
      "metadata": {
        "id": "wiBSxc0McJsL"
      },
      "outputs": [],
      "source": []
    },
    {
      "cell_type": "markdown",
      "metadata": {
        "id": "rZDNcLo_cJbV"
      },
      "source": [
        "a"
      ]
    },
    {
      "cell_type": "markdown",
      "metadata": {
        "id": "dOoC-amPcJ7c"
      },
      "source": [
        "a"
      ]
    },
    {
      "cell_type": "markdown",
      "metadata": {
        "id": "ZRXxcbFycKHL"
      },
      "source": [
        "a"
      ]
    },
    {
      "cell_type": "code",
      "execution_count": 27,
      "metadata": {
        "id": "Zv7tL9WVcKXe"
      },
      "outputs": [],
      "source": []
    },
    {
      "cell_type": "code",
      "execution_count": 27,
      "metadata": {
        "id": "A-BatDwocK3V"
      },
      "outputs": [],
      "source": []
    },
    {
      "cell_type": "code",
      "execution_count": 27,
      "metadata": {
        "id": "waoCzNGXcLEz"
      },
      "outputs": [],
      "source": []
    },
    {
      "cell_type": "code",
      "execution_count": 27,
      "metadata": {
        "id": "d8PKwIqFcLR_"
      },
      "outputs": [],
      "source": []
    },
    {
      "cell_type": "code",
      "execution_count": 27,
      "metadata": {
        "id": "C_Z-bSlFcLmS"
      },
      "outputs": [],
      "source": []
    },
    {
      "cell_type": "code",
      "execution_count": 27,
      "metadata": {
        "id": "hh1PPUsncLyN"
      },
      "outputs": [],
      "source": []
    },
    {
      "cell_type": "code",
      "execution_count": 27,
      "metadata": {
        "id": "r2V8EfjycL-B"
      },
      "outputs": [],
      "source": []
    },
    {
      "cell_type": "markdown",
      "metadata": {
        "id": "zWDVJH9YcOnB"
      },
      "source": [
        "a"
      ]
    }
  ],
  "metadata": {
    "accelerator": "GPU",
    "colab": {
      "provenance": [],
      "gpuType": "T4"
    },
    "kernelspec": {
      "display_name": "Python 3",
      "name": "python3"
    }
  },
  "nbformat": 4,
  "nbformat_minor": 0
}