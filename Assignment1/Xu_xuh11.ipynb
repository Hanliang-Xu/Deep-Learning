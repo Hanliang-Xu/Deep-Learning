{
  "nbformat": 4,
  "nbformat_minor": 0,
  "metadata": {
    "colab": {
      "provenance": [],
      "gpuType": "T4"
    },
    "kernelspec": {
      "name": "python3",
      "display_name": "Python 3"
    },
    "language_info": {
      "name": "python"
    },
    "accelerator": "GPU"
  },
  "cells": [
    {
      "cell_type": "markdown",
      "source": [
        "Part 1. Linear regression with one variable"
      ],
      "metadata": {
        "id": "C9bnQhrxhRth"
      }
    },
    {
      "cell_type": "code",
      "source": [
        "from google.colab import files\n",
        "uploaded = files.upload()"
      ],
      "metadata": {
        "id": "yFntxScrmQBl",
        "outputId": "88ed3ef6-5f95-46bd-c659-a2785e49f869",
        "colab": {
          "base_uri": "https://localhost:8080/",
          "height": 74
        }
      },
      "execution_count": 1,
      "outputs": [
        {
          "output_type": "display_data",
          "data": {
            "text/plain": [
              "<IPython.core.display.HTML object>"
            ],
            "text/html": [
              "\n",
              "     <input type=\"file\" id=\"files-8d0e8201-e553-4f29-a10b-60a8430c59b3\" name=\"files[]\" multiple disabled\n",
              "        style=\"border:none\" />\n",
              "     <output id=\"result-8d0e8201-e553-4f29-a10b-60a8430c59b3\">\n",
              "      Upload widget is only available when the cell has been executed in the\n",
              "      current browser session. Please rerun this cell to enable.\n",
              "      </output>\n",
              "      <script>// Copyright 2017 Google LLC\n",
              "//\n",
              "// Licensed under the Apache License, Version 2.0 (the \"License\");\n",
              "// you may not use this file except in compliance with the License.\n",
              "// You may obtain a copy of the License at\n",
              "//\n",
              "//      http://www.apache.org/licenses/LICENSE-2.0\n",
              "//\n",
              "// Unless required by applicable law or agreed to in writing, software\n",
              "// distributed under the License is distributed on an \"AS IS\" BASIS,\n",
              "// WITHOUT WARRANTIES OR CONDITIONS OF ANY KIND, either express or implied.\n",
              "// See the License for the specific language governing permissions and\n",
              "// limitations under the License.\n",
              "\n",
              "/**\n",
              " * @fileoverview Helpers for google.colab Python module.\n",
              " */\n",
              "(function(scope) {\n",
              "function span(text, styleAttributes = {}) {\n",
              "  const element = document.createElement('span');\n",
              "  element.textContent = text;\n",
              "  for (const key of Object.keys(styleAttributes)) {\n",
              "    element.style[key] = styleAttributes[key];\n",
              "  }\n",
              "  return element;\n",
              "}\n",
              "\n",
              "// Max number of bytes which will be uploaded at a time.\n",
              "const MAX_PAYLOAD_SIZE = 100 * 1024;\n",
              "\n",
              "function _uploadFiles(inputId, outputId) {\n",
              "  const steps = uploadFilesStep(inputId, outputId);\n",
              "  const outputElement = document.getElementById(outputId);\n",
              "  // Cache steps on the outputElement to make it available for the next call\n",
              "  // to uploadFilesContinue from Python.\n",
              "  outputElement.steps = steps;\n",
              "\n",
              "  return _uploadFilesContinue(outputId);\n",
              "}\n",
              "\n",
              "// This is roughly an async generator (not supported in the browser yet),\n",
              "// where there are multiple asynchronous steps and the Python side is going\n",
              "// to poll for completion of each step.\n",
              "// This uses a Promise to block the python side on completion of each step,\n",
              "// then passes the result of the previous step as the input to the next step.\n",
              "function _uploadFilesContinue(outputId) {\n",
              "  const outputElement = document.getElementById(outputId);\n",
              "  const steps = outputElement.steps;\n",
              "\n",
              "  const next = steps.next(outputElement.lastPromiseValue);\n",
              "  return Promise.resolve(next.value.promise).then((value) => {\n",
              "    // Cache the last promise value to make it available to the next\n",
              "    // step of the generator.\n",
              "    outputElement.lastPromiseValue = value;\n",
              "    return next.value.response;\n",
              "  });\n",
              "}\n",
              "\n",
              "/**\n",
              " * Generator function which is called between each async step of the upload\n",
              " * process.\n",
              " * @param {string} inputId Element ID of the input file picker element.\n",
              " * @param {string} outputId Element ID of the output display.\n",
              " * @return {!Iterable<!Object>} Iterable of next steps.\n",
              " */\n",
              "function* uploadFilesStep(inputId, outputId) {\n",
              "  const inputElement = document.getElementById(inputId);\n",
              "  inputElement.disabled = false;\n",
              "\n",
              "  const outputElement = document.getElementById(outputId);\n",
              "  outputElement.innerHTML = '';\n",
              "\n",
              "  const pickedPromise = new Promise((resolve) => {\n",
              "    inputElement.addEventListener('change', (e) => {\n",
              "      resolve(e.target.files);\n",
              "    });\n",
              "  });\n",
              "\n",
              "  const cancel = document.createElement('button');\n",
              "  inputElement.parentElement.appendChild(cancel);\n",
              "  cancel.textContent = 'Cancel upload';\n",
              "  const cancelPromise = new Promise((resolve) => {\n",
              "    cancel.onclick = () => {\n",
              "      resolve(null);\n",
              "    };\n",
              "  });\n",
              "\n",
              "  // Wait for the user to pick the files.\n",
              "  const files = yield {\n",
              "    promise: Promise.race([pickedPromise, cancelPromise]),\n",
              "    response: {\n",
              "      action: 'starting',\n",
              "    }\n",
              "  };\n",
              "\n",
              "  cancel.remove();\n",
              "\n",
              "  // Disable the input element since further picks are not allowed.\n",
              "  inputElement.disabled = true;\n",
              "\n",
              "  if (!files) {\n",
              "    return {\n",
              "      response: {\n",
              "        action: 'complete',\n",
              "      }\n",
              "    };\n",
              "  }\n",
              "\n",
              "  for (const file of files) {\n",
              "    const li = document.createElement('li');\n",
              "    li.append(span(file.name, {fontWeight: 'bold'}));\n",
              "    li.append(span(\n",
              "        `(${file.type || 'n/a'}) - ${file.size} bytes, ` +\n",
              "        `last modified: ${\n",
              "            file.lastModifiedDate ? file.lastModifiedDate.toLocaleDateString() :\n",
              "                                    'n/a'} - `));\n",
              "    const percent = span('0% done');\n",
              "    li.appendChild(percent);\n",
              "\n",
              "    outputElement.appendChild(li);\n",
              "\n",
              "    const fileDataPromise = new Promise((resolve) => {\n",
              "      const reader = new FileReader();\n",
              "      reader.onload = (e) => {\n",
              "        resolve(e.target.result);\n",
              "      };\n",
              "      reader.readAsArrayBuffer(file);\n",
              "    });\n",
              "    // Wait for the data to be ready.\n",
              "    let fileData = yield {\n",
              "      promise: fileDataPromise,\n",
              "      response: {\n",
              "        action: 'continue',\n",
              "      }\n",
              "    };\n",
              "\n",
              "    // Use a chunked sending to avoid message size limits. See b/62115660.\n",
              "    let position = 0;\n",
              "    do {\n",
              "      const length = Math.min(fileData.byteLength - position, MAX_PAYLOAD_SIZE);\n",
              "      const chunk = new Uint8Array(fileData, position, length);\n",
              "      position += length;\n",
              "\n",
              "      const base64 = btoa(String.fromCharCode.apply(null, chunk));\n",
              "      yield {\n",
              "        response: {\n",
              "          action: 'append',\n",
              "          file: file.name,\n",
              "          data: base64,\n",
              "        },\n",
              "      };\n",
              "\n",
              "      let percentDone = fileData.byteLength === 0 ?\n",
              "          100 :\n",
              "          Math.round((position / fileData.byteLength) * 100);\n",
              "      percent.textContent = `${percentDone}% done`;\n",
              "\n",
              "    } while (position < fileData.byteLength);\n",
              "  }\n",
              "\n",
              "  // All done.\n",
              "  yield {\n",
              "    response: {\n",
              "      action: 'complete',\n",
              "    }\n",
              "  };\n",
              "}\n",
              "\n",
              "scope.google = scope.google || {};\n",
              "scope.google.colab = scope.google.colab || {};\n",
              "scope.google.colab._files = {\n",
              "  _uploadFiles,\n",
              "  _uploadFilesContinue,\n",
              "};\n",
              "})(self);\n",
              "</script> "
            ]
          },
          "metadata": {}
        },
        {
          "output_type": "stream",
          "name": "stdout",
          "text": [
            "Saving food_truck_data.txt to food_truck_data.txt\n"
          ]
        }
      ]
    },
    {
      "cell_type": "code",
      "execution_count": 2,
      "metadata": {
        "id": "O_9X1FkSbokF"
      },
      "outputs": [],
      "source": [
        "import numpy as np\n",
        "\n",
        "p1_file_name = 'food_truck_data.txt'\n",
        "p1_data = np.loadtxt(p1_file_name, delimiter=',')\n",
        "\n",
        "p1_data_x = p1_data[:, 0].reshape(-1, 1)\n",
        "p1_data_y = p1_data[:, 1].reshape(-1, 1)\n",
        "\n",
        "p1_data_x = (p1_data_x - np.min(p1_data_x)) / (np.max(p1_data_x) - np.min(p1_data_x))\n",
        "p1_data_x_with_coefficients = np.hstack((np.ones_like(p1_data_x), p1_data_x))"
      ]
    },
    {
      "cell_type": "markdown",
      "source": [
        "**Define a linear model to the data:** y = wx + b. y is the profit of a food truck. x is the population of the city. We would like to fit w, the weight or coefficient for x, and b, the bias or y-intercept of the model."
      ],
      "metadata": {
        "id": "xjPtUCZrKc56"
      }
    },
    {
      "cell_type": "markdown",
      "source": [
        "**Explain the model I defined:** The code defines a linear regression model using gradient descent for optimization. The model aims to predict the profit of a food truck based on the population of a city. The input parameters are w (weights, a (2, ) array), x (population of a city), and y (profit of a food truck in that city). The output is the gradient of the cost function and the cost itself. The gradient descent runs in a loop, continuously updating the weights (w) by subtracting a fraction (alpha) of the gradient. It keeps track of the weights and error at each iteration. The process continues until the change in weights is smaller than the tolerance, indicating convergence."
      ],
      "metadata": {
        "id": "oKnfXCYvNnI9"
      }
    },
    {
      "cell_type": "code",
      "source": [
        "def get_gradient(w, x, y):\n",
        "    y_estimate = x.dot(w).flatten()\n",
        "    error = (y.flatten() - y_estimate)\n",
        "    gradient = -(1.0/len(x)) * error.dot(x)\n",
        "    return gradient, np.sum(np.power(error, 2)) / len(p1_data_x)"
      ],
      "metadata": {
        "id": "Fogci9FWphON"
      },
      "execution_count": 3,
      "outputs": []
    },
    {
      "cell_type": "code",
      "source": [
        "w = np.random.randn(2)\n",
        "alpha = 0.5\n",
        "tolerance = 1e-5\n",
        "\n",
        "# Arrays to keep track of weights and errors\n",
        "p1_weights_history = []\n",
        "p1_errors = []\n",
        "\n",
        "# Perform Gradient Descent\n",
        "iterations = 1\n",
        "while True:\n",
        "    gradient, error = get_gradient(w, p1_data_x_with_coefficients, p1_data_y)\n",
        "    new_w = w - alpha * gradient\n",
        "\n",
        "    # Log the weights and error\n",
        "    p1_weights_history.append(new_w)\n",
        "    p1_errors.append(error)\n",
        "\n",
        "    # Stopping Condition\n",
        "    if np.sum(abs(new_w - w)) < tolerance:\n",
        "      print(\"Converged.\")\n",
        "      print(f\"w should be set to {new_w[1]}, and b should be set to {new_w[0]}.\")\n",
        "      break\n",
        "\n",
        "    # Print error every 50 iterations\n",
        "    if iterations % 100 == 0:\n",
        "      print(f\"Iteration: {iterations} - Error: {error:.4f}\")\n",
        "\n",
        "    iterations += 1\n",
        "    w = new_w"
      ],
      "metadata": {
        "colab": {
          "base_uri": "https://localhost:8080/",
          "height": 0
        },
        "id": "A8Orc7okpncA",
        "outputId": "c2ecbd8c-6f3b-42d1-f93d-f5e9faec6b09"
      },
      "execution_count": 4,
      "outputs": [
        {
          "output_type": "stream",
          "name": "stdout",
          "text": [
            "Iteration: 100 - Error: 9.0975\n",
            "Iteration: 200 - Error: 8.9550\n",
            "Iteration: 300 - Error: 8.9540\n",
            "Iteration: 400 - Error: 8.9539\n",
            "Converged.\n",
            "w should be set to 20.49133033665754, and b should be set to 2.1015441378892796.\n"
          ]
        }
      ]
    },
    {
      "cell_type": "code",
      "source": [
        "import matplotlib.pyplot as plt\n",
        "\n",
        "# Plotting the cost function\n",
        "plt.plot(p1_errors)\n",
        "plt.xlabel('Iterations')\n",
        "plt.ylabel('Cost Function Value')\n",
        "plt.title('Cost Function over Gradient Descent Iterations')\n",
        "plt.show()"
      ],
      "metadata": {
        "colab": {
          "base_uri": "https://localhost:8080/",
          "height": 472
        },
        "id": "_dWhrhrxKcIw",
        "outputId": "b99f30e3-9625-40ff-8e17-c749ddefaa73"
      },
      "execution_count": 5,
      "outputs": [
        {
          "output_type": "display_data",
          "data": {
            "text/plain": [
              "<Figure size 640x480 with 1 Axes>"
            ],
            "image/png": "[encoded data removed]"
          },
          "metadata": {}
        }
      ]
    },
    {
      "cell_type": "code",
      "source": [
        "# Plot the data points\n",
        "plt.scatter(p1_data_x, p1_data_y, label='Data Points')\n",
        "\n",
        "# Generate a range of x values for plotting the line\n",
        "x_model = np.linspace(p1_data_x.min(), p1_data_x.max(), 100)\n",
        "# Compute the corresponding y values from the model\n",
        "y_model = w[0] + w[1] * x_model\n",
        "\n",
        "# Plot the linear model\n",
        "plt.plot(x_model, y_model, color='red', label='Linear Model')\n",
        "\n",
        "# Add labels and legend\n",
        "plt.xlabel('x')\n",
        "plt.ylabel('y')\n",
        "plt.title('Data and Linear Model')\n",
        "plt.legend()\n",
        "\n",
        "# Show the plot\n",
        "plt.show()\n"
      ],
      "metadata": {
        "colab": {
          "base_uri": "https://localhost:8080/",
          "height": 472
        },
        "id": "JL6GlWuaL6w0",
        "outputId": "8cfa1f25-60ad-4364-a804-afd610919a26"
      },
      "execution_count": 6,
      "outputs": [
        {
          "output_type": "display_data",
          "data": {
            "text/plain": [
              "<Figure size 640x480 with 1 Axes>"
            ],
            "image/png": "[encoded data removed]"
          },
          "metadata": {}
        }
      ]
    },
    {
      "cell_type": "markdown",
      "source": [
        "Part 2. Linear regression with multiple variables"
      ],
      "metadata": {
        "id": "YRlHsqd1hjS8"
      }
    },
    {
      "cell_type": "code",
      "source": [
        "from google.colab import files\n",
        "uploaded = files.upload()"
      ],
      "metadata": {
        "colab": {
          "base_uri": "https://localhost:8080/",
          "height": 74
        },
        "id": "BaFeq8IPhirL",
        "outputId": "b01d0735-0011-45d5-8ec1-ca87349ed2f1"
      },
      "execution_count": 7,
      "outputs": [
        {
          "output_type": "display_data",
          "data": {
            "text/plain": [
              "<IPython.core.display.HTML object>"
            ],
            "text/html": [
              "\n",
              "     <input type=\"file\" id=\"files-f2215c18-a115-4bc0-a2b7-e14710cdbb6a\" name=\"files[]\" multiple disabled\n",
              "        style=\"border:none\" />\n",
              "     <output id=\"result-f2215c18-a115-4bc0-a2b7-e14710cdbb6a\">\n",
              "      Upload widget is only available when the cell has been executed in the\n",
              "      current browser session. Please rerun this cell to enable.\n",
              "      </output>\n",
              "      <script>// Copyright 2017 Google LLC\n",
              "//\n",
              "// Licensed under the Apache License, Version 2.0 (the \"License\");\n",
              "// you may not use this file except in compliance with the License.\n",
              "// You may obtain a copy of the License at\n",
              "//\n",
              "//      http://www.apache.org/licenses/LICENSE-2.0\n",
              "//\n",
              "// Unless required by applicable law or agreed to in writing, software\n",
              "// distributed under the License is distributed on an \"AS IS\" BASIS,\n",
              "// WITHOUT WARRANTIES OR CONDITIONS OF ANY KIND, either express or implied.\n",
              "// See the License for the specific language governing permissions and\n",
              "// limitations under the License.\n",
              "\n",
              "/**\n",
              " * @fileoverview Helpers for google.colab Python module.\n",
              " */\n",
              "(function(scope) {\n",
              "function span(text, styleAttributes = {}) {\n",
              "  const element = document.createElement('span');\n",
              "  element.textContent = text;\n",
              "  for (const key of Object.keys(styleAttributes)) {\n",
              "    element.style[key] = styleAttributes[key];\n",
              "  }\n",
              "  return element;\n",
              "}\n",
              "\n",
              "// Max number of bytes which will be uploaded at a time.\n",
              "const MAX_PAYLOAD_SIZE = 100 * 1024;\n",
              "\n",
              "function _uploadFiles(inputId, outputId) {\n",
              "  const steps = uploadFilesStep(inputId, outputId);\n",
              "  const outputElement = document.getElementById(outputId);\n",
              "  // Cache steps on the outputElement to make it available for the next call\n",
              "  // to uploadFilesContinue from Python.\n",
              "  outputElement.steps = steps;\n",
              "\n",
              "  return _uploadFilesContinue(outputId);\n",
              "}\n",
              "\n",
              "// This is roughly an async generator (not supported in the browser yet),\n",
              "// where there are multiple asynchronous steps and the Python side is going\n",
              "// to poll for completion of each step.\n",
              "// This uses a Promise to block the python side on completion of each step,\n",
              "// then passes the result of the previous step as the input to the next step.\n",
              "function _uploadFilesContinue(outputId) {\n",
              "  const outputElement = document.getElementById(outputId);\n",
              "  const steps = outputElement.steps;\n",
              "\n",
              "  const next = steps.next(outputElement.lastPromiseValue);\n",
              "  return Promise.resolve(next.value.promise).then((value) => {\n",
              "    // Cache the last promise value to make it available to the next\n",
              "    // step of the generator.\n",
              "    outputElement.lastPromiseValue = value;\n",
              "    return next.value.response;\n",
              "  });\n",
              "}\n",
              "\n",
              "/**\n",
              " * Generator function which is called between each async step of the upload\n",
              " * process.\n",
              " * @param {string} inputId Element ID of the input file picker element.\n",
              " * @param {string} outputId Element ID of the output display.\n",
              " * @return {!Iterable<!Object>} Iterable of next steps.\n",
              " */\n",
              "function* uploadFilesStep(inputId, outputId) {\n",
              "  const inputElement = document.getElementById(inputId);\n",
              "  inputElement.disabled = false;\n",
              "\n",
              "  const outputElement = document.getElementById(outputId);\n",
              "  outputElement.innerHTML = '';\n",
              "\n",
              "  const pickedPromise = new Promise((resolve) => {\n",
              "    inputElement.addEventListener('change', (e) => {\n",
              "      resolve(e.target.files);\n",
              "    });\n",
              "  });\n",
              "\n",
              "  const cancel = document.createElement('button');\n",
              "  inputElement.parentElement.appendChild(cancel);\n",
              "  cancel.textContent = 'Cancel upload';\n",
              "  const cancelPromise = new Promise((resolve) => {\n",
              "    cancel.onclick = () => {\n",
              "      resolve(null);\n",
              "    };\n",
              "  });\n",
              "\n",
              "  // Wait for the user to pick the files.\n",
              "  const files = yield {\n",
              "    promise: Promise.race([pickedPromise, cancelPromise]),\n",
              "    response: {\n",
              "      action: 'starting',\n",
              "    }\n",
              "  };\n",
              "\n",
              "  cancel.remove();\n",
              "\n",
              "  // Disable the input element since further picks are not allowed.\n",
              "  inputElement.disabled = true;\n",
              "\n",
              "  if (!files) {\n",
              "    return {\n",
              "      response: {\n",
              "        action: 'complete',\n",
              "      }\n",
              "    };\n",
              "  }\n",
              "\n",
              "  for (const file of files) {\n",
              "    const li = document.createElement('li');\n",
              "    li.append(span(file.name, {fontWeight: 'bold'}));\n",
              "    li.append(span(\n",
              "        `(${file.type || 'n/a'}) - ${file.size} bytes, ` +\n",
              "        `last modified: ${\n",
              "            file.lastModifiedDate ? file.lastModifiedDate.toLocaleDateString() :\n",
              "                                    'n/a'} - `));\n",
              "    const percent = span('0% done');\n",
              "    li.appendChild(percent);\n",
              "\n",
              "    outputElement.appendChild(li);\n",
              "\n",
              "    const fileDataPromise = new Promise((resolve) => {\n",
              "      const reader = new FileReader();\n",
              "      reader.onload = (e) => {\n",
              "        resolve(e.target.result);\n",
              "      };\n",
              "      reader.readAsArrayBuffer(file);\n",
              "    });\n",
              "    // Wait for the data to be ready.\n",
              "    let fileData = yield {\n",
              "      promise: fileDataPromise,\n",
              "      response: {\n",
              "        action: 'continue',\n",
              "      }\n",
              "    };\n",
              "\n",
              "    // Use a chunked sending to avoid message size limits. See b/62115660.\n",
              "    let position = 0;\n",
              "    do {\n",
              "      const length = Math.min(fileData.byteLength - position, MAX_PAYLOAD_SIZE);\n",
              "      const chunk = new Uint8Array(fileData, position, length);\n",
              "      position += length;\n",
              "\n",
              "      const base64 = btoa(String.fromCharCode.apply(null, chunk));\n",
              "      yield {\n",
              "        response: {\n",
              "          action: 'append',\n",
              "          file: file.name,\n",
              "          data: base64,\n",
              "        },\n",
              "      };\n",
              "\n",
              "      let percentDone = fileData.byteLength === 0 ?\n",
              "          100 :\n",
              "          Math.round((position / fileData.byteLength) * 100);\n",
              "      percent.textContent = `${percentDone}% done`;\n",
              "\n",
              "    } while (position < fileData.byteLength);\n",
              "  }\n",
              "\n",
              "  // All done.\n",
              "  yield {\n",
              "    response: {\n",
              "      action: 'complete',\n",
              "    }\n",
              "  };\n",
              "}\n",
              "\n",
              "scope.google = scope.google || {};\n",
              "scope.google.colab = scope.google.colab || {};\n",
              "scope.google.colab._files = {\n",
              "  _uploadFiles,\n",
              "  _uploadFilesContinue,\n",
              "};\n",
              "})(self);\n",
              "</script> "
            ]
          },
          "metadata": {}
        },
        {
          "output_type": "stream",
          "name": "stdout",
          "text": [
            "Saving housing_price_data.txt to housing_price_data.txt\n"
          ]
        }
      ]
    },
    {
      "cell_type": "code",
      "source": [
        "import numpy as np\n",
        "\n",
        "p2_file_name = 'housing_price_data.txt'\n",
        "p2_data = np.loadtxt(p2_file_name, delimiter=',')\n",
        "\n",
        "p2_data_x1 = p2_data[:, 0].reshape(-1, 1)\n",
        "p2_data_x2 = p2_data[:, 1].reshape(-1, 1)\n",
        "p2_data_y = p2_data[:, 2].reshape(-1, 1)\n",
        "\n",
        "p2_data_x1 = (p2_data_x1 - np.min(p2_data_x1)) / (np.max(p2_data_x1) - np.min(p2_data_x1))\n",
        "p2_data_x2 = (p2_data_x2 - np.min(p2_data_x2)) / (np.max(p2_data_x2) - np.min(p2_data_x2))\n",
        "\n",
        "ones_column = np.ones((p2_data_x1.shape[0], 1))\n",
        "p2_train_x = np.hstack((ones_column, p2_data_x1, p2_data_x2))"
      ],
      "metadata": {
        "id": "k4RosO7hh_ir"
      },
      "execution_count": 8,
      "outputs": []
    },
    {
      "cell_type": "markdown",
      "source": [
        "**Define a linear model to the data:** Let x1 be size of the house. Let x2 be number of bedrooms. Let y represents price of the house. Let θ0 be the intercept, θ1 be the coefficient for house size, and θ2 be the coefficient for the number of bedrooms. Then the hypothesis function for the linear model is h(x) = θ0 + θ1 * x1 + θ2 * x2."
      ],
      "metadata": {
        "id": "WqwUEPx1kZGh"
      }
    },
    {
      "cell_type": "markdown",
      "source": [
        "**Explain the model I defined:** In this model, you're using linear regression with multiple variables (house size, number of bedrooms) to predict house prices. The parameters (weights) are initialized randomly and updated using gradient descent. Feature scaling is applied to normalize data ranges, ensuring efficient convergence. During gradient descent, weights are iteratively adjusted based on the learning rate and gradient of the error function. Convergence is checked against a tolerance level. The process logs weights and errors for analysis. Once converged, the final weights indicate the model's parameters for predicting housing prices based on the input features."
      ],
      "metadata": {
        "id": "9rSa6yO5SSE2"
      }
    },
    {
      "cell_type": "code",
      "source": [
        "def get_gradient(w, x, y):\n",
        "    y_estimate = x.dot(w).flatten()\n",
        "    error = (y.flatten() - y_estimate)\n",
        "    gradient = -(1.0/len(x)) * error.dot(x)\n",
        "    return gradient, np.sum(np.power(error, 2)) / len(x)"
      ],
      "metadata": {
        "id": "37ht9dZNr_fq"
      },
      "execution_count": 9,
      "outputs": []
    },
    {
      "cell_type": "code",
      "source": [
        "# Initialize weights and other parameters\n",
        "w = np.random.randn(3)\n",
        "alpha = 0.5\n",
        "tolerance = 1e-5\n",
        "\n",
        "# Arrays to keep track of weights and errors\n",
        "p2_weights_history = []\n",
        "p2_errors = []\n",
        "\n",
        "# Perform Gradient Descent\n",
        "iterations = 1\n",
        "while True:\n",
        "    gradient, error = get_gradient(w, p2_train_x, p2_data_y)\n",
        "    new_w = w - alpha * gradient\n",
        "\n",
        "    # Log the weights and error\n",
        "    p2_weights_history.append(new_w)\n",
        "    p2_errors.append(error)\n",
        "\n",
        "    # Stopping Condition\n",
        "    if np.sum(abs(new_w - w)) < tolerance:\n",
        "        print(\"Converged.\")\n",
        "        print(f\"w1 should be set to {new_w[1]}, w2 should be set to {new_w[2]}, and b should be set to {new_w[0]}.\")\n",
        "        break\n",
        "\n",
        "    # Print error every 100 iterations\n",
        "    if iterations % 100 == 0:\n",
        "        print(f\"Iteration: {iterations} - Error: {error:.4f}\")\n",
        "\n",
        "    iterations += 1\n",
        "    w = new_w"
      ],
      "metadata": {
        "colab": {
          "base_uri": "https://localhost:8080/",
          "height": 0
        },
        "id": "B24LgXsasGIW",
        "outputId": "d740402c-035d-460a-a687-ec90dd2ed8fc"
      },
      "execution_count": 12,
      "outputs": [
        {
          "output_type": "stream",
          "name": "stdout",
          "text": [
            "Iteration: 100 - Error: 4524484602.2554\n",
            "Iteration: 200 - Error: 4163793113.2258\n",
            "Iteration: 300 - Error: 4101108748.6965\n",
            "Iteration: 400 - Error: 4089307794.1162\n",
            "Iteration: 500 - Error: 4087079088.2413\n",
            "Iteration: 600 - Error: 4086658128.3713\n",
            "Iteration: 700 - Error: 4086578616.7483\n",
            "Iteration: 800 - Error: 4086563598.4538\n",
            "Iteration: 900 - Error: 4086560761.7720\n",
            "Iteration: 1000 - Error: 4086560225.9746\n",
            "Iteration: 1100 - Error: 4086560124.7722\n",
            "Iteration: 1200 - Error: 4086560105.6570\n",
            "Iteration: 1300 - Error: 4086560102.0464\n",
            "Iteration: 1400 - Error: 4086560101.3645\n",
            "Iteration: 1500 - Error: 4086560101.2357\n",
            "Iteration: 1600 - Error: 4086560101.2113\n",
            "Iteration: 1700 - Error: 4086560101.2067\n",
            "Iteration: 1800 - Error: 4086560101.2059\n",
            "Iteration: 1900 - Error: 4086560101.2057\n",
            "Iteration: 2000 - Error: 4086560101.2057\n",
            "Iteration: 2100 - Error: 4086560101.2057\n",
            "Iteration: 2200 - Error: 4086560101.2057\n",
            "Iteration: 2300 - Error: 4086560101.2057\n",
            "Converged.\n",
            "w1 should be set to 504777.9035782633, w2 should be set to -34952.0758595691, and b should be set to 199467.3845000822.\n"
          ]
        }
      ]
    },
    {
      "cell_type": "code",
      "source": [
        "import matplotlib.pyplot as plt\n",
        "\n",
        "# Plotting the cost function\n",
        "plt.plot(p2_errors)\n",
        "plt.xlabel('Iterations')\n",
        "plt.ylabel('Cost Function Value')\n",
        "plt.title('Cost Function over Gradient Descent Iterations')\n",
        "plt.show()"
      ],
      "metadata": {
        "id": "kyNDta3PziDo",
        "outputId": "c9c884ed-5913-413c-947c-030732c51edf",
        "colab": {
          "base_uri": "https://localhost:8080/",
          "height": 472
        }
      },
      "execution_count": 13,
      "outputs": [
        {
          "output_type": "display_data",
          "data": {
            "text/plain": [
              "<Figure size 640x480 with 1 Axes>"
            ],
            "image/png": "[encoded data removed]"
          },
          "metadata": {}
        }
      ]
    }
  ]
}